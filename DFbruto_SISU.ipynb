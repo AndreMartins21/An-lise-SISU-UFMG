{
  "nbformat": 4,
  "nbformat_minor": 0,
  "metadata": {
    "colab": {
      "name": "DFbruto-SISU.ipynb",
      "provenance": [],
      "collapsed_sections": [],
      "mount_file_id": "1devKXWYYf7EXnFfWKb9-mkRAripMxQ8z",
      "authorship_tag": "ABX9TyO1xYq+uC/8O61nzQxX25qv",
      "include_colab_link": true
    },
    "kernelspec": {
      "name": "python3",
      "display_name": "Python 3"
    },
    "language_info": {
      "name": "python"
    }
  },
  "cells": [
    {
      "cell_type": "markdown",
      "metadata": {
        "id": "view-in-github",
        "colab_type": "text"
      },
      "source": [
        "<a href=\"https://colab.research.google.com/github/AndreMartins21/SISU-UFMG/blob/main/DFbruto_SISU.ipynb\" target=\"_parent\"><img src=\"https://colab.research.google.com/assets/colab-badge.svg\" alt=\"Open In Colab\"/></a>"
      ]
    },
    {
      "cell_type": "markdown",
      "metadata": {
        "id": "D-v91WZ7CVfI"
      },
      "source": [
        "# - LENDO O PDF, MANIPULANDO AS STRINGS E CRIANDO O DATAFRAME"
      ]
    },
    {
      "cell_type": "code",
      "metadata": {
        "colab": {
          "base_uri": "https://localhost:8080/"
        },
        "id": "ltma85C6aNsp",
        "outputId": "4bc92a23-d19d-4ca0-9aa3-874c87d67ad5"
      },
      "source": [
        "# Importando as Bibliotecas\n",
        "\n",
        "!pip install PyPDF2\n",
        "\n",
        "import PyPDF2 as PDF\n",
        "import pandas as pd\n",
        "import regex as re"
      ],
      "execution_count": 13,
      "outputs": [
        {
          "output_type": "stream",
          "text": [
            "Requirement already satisfied: PyPDF2 in /usr/local/lib/python3.7/dist-packages (1.26.0)\n"
          ],
          "name": "stdout"
        }
      ]
    },
    {
      "cell_type": "markdown",
      "metadata": {
        "id": "8gDNHe7IrTOY"
      },
      "source": [
        "**<> Lendo o arquivo PDF, e salvando todas as páginas**"
      ]
    },
    {
      "cell_type": "code",
      "metadata": {
        "id": "wZXFk50laeqt"
      },
      "source": [
        "arquivo = '/content/drive/MyDrive/Colab Notebooks/DataSet Kaggle/SISU UFMG.pdf'\n",
        "\n",
        "lerPDF = PDF.PdfFileReader(arquivo)\n",
        "\n",
        "num_page = lerPDF.numPages\n",
        "\n",
        "paginas = []\n",
        "\n",
        "# Filtrando os dados dos arquivos, separando somente os cursos / turnos / modalidade / máximo / mínimo\n",
        "for cont in range(0, num_page):\n",
        "  page = lerPDF.getPage(cont)\n",
        "\n",
        "  conteudo = page.extractText()\n",
        "\n",
        "  # SEPARAR SOMENTE OS CURSOS E SUAS NOTAS\n",
        "  inicio = conteudo.find(\"MínimoMáximo\") + len(\"MínimoMáximo\")\n",
        "\n",
        "  # Se for a última página:\n",
        "  if cont == 15:\n",
        "    fim = conteudo.find(\"334\")\n",
        "  else: \n",
        "    fim = conteudo.find(\"21/04/2021\")\n",
        "  \n",
        "  paginas.append(conteudo[inicio:fim])"
      ],
      "execution_count": 3,
      "outputs": []
    },
    {
      "cell_type": "code",
      "metadata": {
        "colab": {
          "base_uri": "https://localhost:8080/",
          "height": 52
        },
        "id": "J0-fj8h7fC6N",
        "outputId": "075c9597-ab3a-42bf-fb0a-ccfe0b14bac4"
      },
      "source": [
        "paginas[5][:200]"
      ],
      "execution_count": 15,
      "outputs": [
        {
          "output_type": "execute_result",
          "data": {
            "application/vnd.google.colaboratory.intrinsic+json": {
              "type": "string"
            },
            "text/plain": [
              "'EDUCAÇÃO FÍSICA (Bacharelado)NoturnoAmplaconcorrência682,38768,30EDUCAÇÃO FÍSICA (Licenciatura)Matutino1.1460,60460,60EDUCAÇÃO FÍSICA (Licenciatura)Matutino1.2602,58628,22EDUCAÇÃO FÍSICA (Licenciatura'"
            ]
          },
          "metadata": {
            "tags": []
          },
          "execution_count": 15
        }
      ]
    },
    {
      "cell_type": "code",
      "metadata": {
        "id": "ixW8VF7e-S2P"
      },
      "source": [
        "# SEPARANDO OS VALORES DE CADA COLUNA DO DATAFRAME\n",
        "\n",
        "def sep_curso(string):\n",
        "  \n",
        "  # \"6CIÊNCIAS CONTÁBEISNoturno\"\n",
        "  # Curso com maior nome tem 49 letras\n",
        "  \n",
        "  curso = r'[A-ZÍÃÓÇÔÊÉÁÂÚ\\s()(Bacharelado)(Licenciatura)]{0,49}[VNMI]'\n",
        "  find_curso = re.findall(curso, string)\n",
        "  find_curso = list([x[:-1] for x in find_curso])\n",
        "  return find_curso\n",
        "\n",
        "\n",
        "def sep_turno(string):\n",
        "\n",
        "  turno = r'Matutino|Noturno|Integral|Vespertino'\n",
        "\n",
        "  find_turno = re.findall(turno, string)\n",
        "\n",
        "  return find_turno\n",
        "\n",
        "def sep_modalidade(string):\n",
        "  #1.1 | Amplaconcorrência\n",
        "\n",
        "  modalidade = r'\\d{1}\\.\\d{1}|Amplaconcorrência'\n",
        "\n",
        "  find_modalidade = re.findall(modalidade, string)\n",
        "\n",
        "  return find_modalidade\n",
        "\n",
        "def sep_minimo(string):\n",
        "  #520,04\n",
        "\n",
        "  minimo = r'\\d{3},\\d{3}'\n",
        "\n",
        "  find_min = re.findall(minimo, string)\n",
        "  find_min = list([x[:6] for x in find_min])\n",
        "\n",
        "  return find_min\n",
        "\n",
        "def sep_maximo(string):\n",
        "  #04520\n",
        "\n",
        "  maximo = r'\\d{5},\\d{2}'\n",
        "\n",
        "  find_max = re.findall(maximo, string)\n",
        "  find_max = list([x[2:] for x in find_max])\n",
        "\n",
        "  return find_max\n"
      ],
      "execution_count": 5,
      "outputs": []
    },
    {
      "cell_type": "code",
      "metadata": {
        "colab": {
          "base_uri": "https://localhost:8080/",
          "height": 204
        },
        "id": "vWDfg7urQ667",
        "outputId": "01c6e41c-9f43-4196-ba39-264292e0a4ca"
      },
      "source": [
        "def data_frame(line):\n",
        "  '''\n",
        "  Função que retornará cada página do pdf em formato de DataFrame\n",
        "  '''\n",
        "  \n",
        "  line = paginas[line]\n",
        "\n",
        "  df_sisu = pd.DataFrame({\n",
        "      \"Curso\": sep_curso(line),\n",
        "      \"Turno\": sep_turno(line),\n",
        "      \"Modalidade\": sep_modalidade(line),\n",
        "      \"Mínimo\": sep_minimo(line),\n",
        "      \"Máximo\": sep_maximo(line)\n",
        "  })\n",
        "\n",
        "  return df_sisu\n",
        "\n",
        "data_frame(4).head()"
      ],
      "execution_count": 6,
      "outputs": [
        {
          "output_type": "execute_result",
          "data": {
            "text/html": [
              "<div>\n",
              "<style scoped>\n",
              "    .dataframe tbody tr th:only-of-type {\n",
              "        vertical-align: middle;\n",
              "    }\n",
              "\n",
              "    .dataframe tbody tr th {\n",
              "        vertical-align: top;\n",
              "    }\n",
              "\n",
              "    .dataframe thead th {\n",
              "        text-align: right;\n",
              "    }\n",
              "</style>\n",
              "<table border=\"1\" class=\"dataframe\">\n",
              "  <thead>\n",
              "    <tr style=\"text-align: right;\">\n",
              "      <th></th>\n",
              "      <th>Curso</th>\n",
              "      <th>Turno</th>\n",
              "      <th>Modalidade</th>\n",
              "      <th>Mínimo</th>\n",
              "      <th>Máximo</th>\n",
              "    </tr>\n",
              "  </thead>\n",
              "  <tbody>\n",
              "    <tr>\n",
              "      <th>0</th>\n",
              "      <td>CONTROLADORIA E FINANÇAS</td>\n",
              "      <td>Matutino</td>\n",
              "      <td>3.1</td>\n",
              "      <td>557,82</td>\n",
              "      <td>557,82</td>\n",
              "    </tr>\n",
              "    <tr>\n",
              "      <th>1</th>\n",
              "      <td>CONTROLADORIA E FINANÇAS</td>\n",
              "      <td>Matutino</td>\n",
              "      <td>3.2</td>\n",
              "      <td>647,38</td>\n",
              "      <td>689,68</td>\n",
              "    </tr>\n",
              "    <tr>\n",
              "      <th>2</th>\n",
              "      <td>CONTROLADORIA E FINANÇAS</td>\n",
              "      <td>Matutino</td>\n",
              "      <td>4.2</td>\n",
              "      <td>717,08</td>\n",
              "      <td>761,82</td>\n",
              "    </tr>\n",
              "    <tr>\n",
              "      <th>3</th>\n",
              "      <td>CONTROLADORIA E FINANÇAS</td>\n",
              "      <td>Matutino</td>\n",
              "      <td>Amplaconcorrência</td>\n",
              "      <td>716,56</td>\n",
              "      <td>781,84</td>\n",
              "    </tr>\n",
              "    <tr>\n",
              "      <th>4</th>\n",
              "      <td>DESIGN</td>\n",
              "      <td>Noturno</td>\n",
              "      <td>1.1</td>\n",
              "      <td>578,92</td>\n",
              "      <td>578,92</td>\n",
              "    </tr>\n",
              "  </tbody>\n",
              "</table>\n",
              "</div>"
            ],
            "text/plain": [
              "                      Curso     Turno         Modalidade  Mínimo  Máximo\n",
              "0  CONTROLADORIA E FINANÇAS  Matutino                3.1  557,82  557,82\n",
              "1  CONTROLADORIA E FINANÇAS  Matutino                3.2  647,38  689,68\n",
              "2  CONTROLADORIA E FINANÇAS  Matutino                4.2  717,08  761,82\n",
              "3  CONTROLADORIA E FINANÇAS  Matutino  Amplaconcorrência  716,56  781,84\n",
              "4                    DESIGN   Noturno                1.1  578,92  578,92"
            ]
          },
          "metadata": {
            "tags": []
          },
          "execution_count": 6
        }
      ]
    },
    {
      "cell_type": "markdown",
      "metadata": {
        "id": "mTVanEMVtX0v"
      },
      "source": [
        "# TRANSFORMANDO O ARQUIVO EM DATAFRAME E PASSANDO PARA .XLSX"
      ]
    },
    {
      "cell_type": "code",
      "metadata": {
        "colab": {
          "base_uri": "https://localhost:8080/",
          "height": 204
        },
        "id": "yteUz4_6td8A",
        "outputId": "bc2358d7-8b13-4412-e0d1-dad50f6074b1"
      },
      "source": [
        "# Montando o dataframe completo\n",
        "\n",
        "df = data_frame(0)\n",
        "\n",
        "for cont in range(1, 16):\n",
        "  df = df.append(data_frame(cont), ignore_index= True)\n",
        "\n",
        "# Transformando os valores de MÁXIMO e MÍNIMO em float\n",
        "\n",
        "df[\"Máximo\"] = df[\"Máximo\"].apply(lambda x: float(x.replace(\",\", \".\")))\n",
        "df[\"Mínimo\"] = df[\"Mínimo\"].apply(lambda x: float(x.replace(\",\", \".\")))\n",
        "\n",
        "df.tail()"
      ],
      "execution_count": 9,
      "outputs": [
        {
          "output_type": "execute_result",
          "data": {
            "text/html": [
              "<div>\n",
              "<style scoped>\n",
              "    .dataframe tbody tr th:only-of-type {\n",
              "        vertical-align: middle;\n",
              "    }\n",
              "\n",
              "    .dataframe tbody tr th {\n",
              "        vertical-align: top;\n",
              "    }\n",
              "\n",
              "    .dataframe thead th {\n",
              "        text-align: right;\n",
              "    }\n",
              "</style>\n",
              "<table border=\"1\" class=\"dataframe\">\n",
              "  <thead>\n",
              "    <tr style=\"text-align: right;\">\n",
              "      <th></th>\n",
              "      <th>Curso</th>\n",
              "      <th>Turno</th>\n",
              "      <th>Modalidade</th>\n",
              "      <th>Mínimo</th>\n",
              "      <th>Máximo</th>\n",
              "    </tr>\n",
              "  </thead>\n",
              "  <tbody>\n",
              "    <tr>\n",
              "      <th>679</th>\n",
              "      <td>ZOOTECNIA</td>\n",
              "      <td>Matutino</td>\n",
              "      <td>2.2</td>\n",
              "      <td>622.36</td>\n",
              "      <td>636.70</td>\n",
              "    </tr>\n",
              "    <tr>\n",
              "      <th>680</th>\n",
              "      <td>ZOOTECNIA</td>\n",
              "      <td>Matutino</td>\n",
              "      <td>3.1</td>\n",
              "      <td>494.06</td>\n",
              "      <td>494.06</td>\n",
              "    </tr>\n",
              "    <tr>\n",
              "      <th>681</th>\n",
              "      <td>ZOOTECNIA</td>\n",
              "      <td>Matutino</td>\n",
              "      <td>3.2</td>\n",
              "      <td>595.62</td>\n",
              "      <td>650.50</td>\n",
              "    </tr>\n",
              "    <tr>\n",
              "      <th>682</th>\n",
              "      <td>ZOOTECNIA</td>\n",
              "      <td>Matutino</td>\n",
              "      <td>4.2</td>\n",
              "      <td>626.86</td>\n",
              "      <td>646.20</td>\n",
              "    </tr>\n",
              "    <tr>\n",
              "      <th>683</th>\n",
              "      <td>ZOOTECNIA</td>\n",
              "      <td>Matutino</td>\n",
              "      <td>Amplaconcorrência</td>\n",
              "      <td>643.94</td>\n",
              "      <td>689.36</td>\n",
              "    </tr>\n",
              "  </tbody>\n",
              "</table>\n",
              "</div>"
            ],
            "text/plain": [
              "         Curso     Turno         Modalidade  Mínimo  Máximo\n",
              "679  ZOOTECNIA  Matutino                2.2  622.36  636.70\n",
              "680  ZOOTECNIA  Matutino                3.1  494.06  494.06\n",
              "681  ZOOTECNIA  Matutino                3.2  595.62  650.50\n",
              "682  ZOOTECNIA  Matutino                4.2  626.86  646.20\n",
              "683  ZOOTECNIA  Matutino  Amplaconcorrência  643.94  689.36"
            ]
          },
          "metadata": {
            "tags": []
          },
          "execution_count": 9
        }
      ]
    },
    {
      "cell_type": "code",
      "metadata": {
        "id": "zVe4u766t4Ef"
      },
      "source": [
        "# Transformando em arquivo Excel:\n",
        "\n",
        "df.to_excel(\"DF_SISU_UFMG.xlsx\")"
      ],
      "execution_count": null,
      "outputs": []
    },
    {
      "cell_type": "code",
      "metadata": {
        "colab": {
          "base_uri": "https://localhost:8080/",
          "height": 419
        },
        "id": "IVFU7QtuTFwk",
        "outputId": "65101346-0761-4cc0-80ec-e36a29cd9e31"
      },
      "source": [
        "df[df[\"Modalidade\"] == \"1.10\"]"
      ],
      "execution_count": 12,
      "outputs": [
        {
          "output_type": "execute_result",
          "data": {
            "text/html": [
              "<div>\n",
              "<style scoped>\n",
              "    .dataframe tbody tr th:only-of-type {\n",
              "        vertical-align: middle;\n",
              "    }\n",
              "\n",
              "    .dataframe tbody tr th {\n",
              "        vertical-align: top;\n",
              "    }\n",
              "\n",
              "    .dataframe thead th {\n",
              "        text-align: right;\n",
              "    }\n",
              "</style>\n",
              "<table border=\"1\" class=\"dataframe\">\n",
              "  <thead>\n",
              "    <tr style=\"text-align: right;\">\n",
              "      <th></th>\n",
              "      <th>Curso</th>\n",
              "      <th>Turno</th>\n",
              "      <th>Modalidade</th>\n",
              "      <th>Mínimo</th>\n",
              "      <th>Máximo</th>\n",
              "    </tr>\n",
              "  </thead>\n",
              "  <tbody>\n",
              "    <tr>\n",
              "      <th>0</th>\n",
              "      <td>ADMINISTRAÇÃO</td>\n",
              "      <td>Matutino</td>\n",
              "      <td>1.1</td>\n",
              "      <td>520.04</td>\n",
              "      <td>520.04</td>\n",
              "    </tr>\n",
              "    <tr>\n",
              "      <th>8</th>\n",
              "      <td>ADMINISTRAÇÃO</td>\n",
              "      <td>Noturno</td>\n",
              "      <td>1.1</td>\n",
              "      <td>541.86</td>\n",
              "      <td>541.86</td>\n",
              "    </tr>\n",
              "    <tr>\n",
              "      <th>16</th>\n",
              "      <td>ADMINISTRAÇÃO (MONTES CLAROS)</td>\n",
              "      <td>Noturno</td>\n",
              "      <td>1.1</td>\n",
              "      <td>501.08</td>\n",
              "      <td>501.08</td>\n",
              "    </tr>\n",
              "    <tr>\n",
              "      <th>23</th>\n",
              "      <td>AGRONOMIA</td>\n",
              "      <td>Matutino</td>\n",
              "      <td>1.1</td>\n",
              "      <td>573.14</td>\n",
              "      <td>573.14</td>\n",
              "    </tr>\n",
              "    <tr>\n",
              "      <th>30</th>\n",
              "      <td>ANTROPOLOGIA</td>\n",
              "      <td>Noturno</td>\n",
              "      <td>1.1</td>\n",
              "      <td>534.94</td>\n",
              "      <td>534.94</td>\n",
              "    </tr>\n",
              "    <tr>\n",
              "      <th>...</th>\n",
              "      <td>...</td>\n",
              "      <td>...</td>\n",
              "      <td>...</td>\n",
              "      <td>...</td>\n",
              "      <td>...</td>\n",
              "    </tr>\n",
              "    <tr>\n",
              "      <th>629</th>\n",
              "      <td>RADIOLOGIA</td>\n",
              "      <td>Noturno</td>\n",
              "      <td>1.1</td>\n",
              "      <td>569.02</td>\n",
              "      <td>569.02</td>\n",
              "    </tr>\n",
              "    <tr>\n",
              "      <th>645</th>\n",
              "      <td>ES PÚBLICAS</td>\n",
              "      <td>Matutino</td>\n",
              "      <td>1.1</td>\n",
              "      <td>476.92</td>\n",
              "      <td>476.92</td>\n",
              "    </tr>\n",
              "    <tr>\n",
              "      <th>652</th>\n",
              "      <td>SISTEMAS DE INFORMAÇÃO</td>\n",
              "      <td>Noturno</td>\n",
              "      <td>1.1</td>\n",
              "      <td>522.82</td>\n",
              "      <td>522.82</td>\n",
              "    </tr>\n",
              "    <tr>\n",
              "      <th>661</th>\n",
              "      <td>TERAPIA OCUPACIONAL</td>\n",
              "      <td>Matutino</td>\n",
              "      <td>1.1</td>\n",
              "      <td>460.08</td>\n",
              "      <td>460.08</td>\n",
              "    </tr>\n",
              "    <tr>\n",
              "      <th>677</th>\n",
              "      <td>ZOOTECNIA</td>\n",
              "      <td>Matutino</td>\n",
              "      <td>1.1</td>\n",
              "      <td>526.26</td>\n",
              "      <td>526.26</td>\n",
              "    </tr>\n",
              "  </tbody>\n",
              "</table>\n",
              "<p>72 rows × 5 columns</p>\n",
              "</div>"
            ],
            "text/plain": [
              "                             Curso     Turno Modalidade  Mínimo  Máximo\n",
              "0                    ADMINISTRAÇÃO  Matutino        1.1  520.04  520.04\n",
              "8                    ADMINISTRAÇÃO   Noturno        1.1  541.86  541.86\n",
              "16   ADMINISTRAÇÃO (MONTES CLAROS)   Noturno        1.1  501.08  501.08\n",
              "23                       AGRONOMIA  Matutino        1.1  573.14  573.14\n",
              "30                    ANTROPOLOGIA   Noturno        1.1  534.94  534.94\n",
              "..                             ...       ...        ...     ...     ...\n",
              "629                     RADIOLOGIA   Noturno        1.1  569.02  569.02\n",
              "645                    ES PÚBLICAS  Matutino        1.1  476.92  476.92\n",
              "652         SISTEMAS DE INFORMAÇÃO   Noturno        1.1  522.82  522.82\n",
              "661            TERAPIA OCUPACIONAL  Matutino        1.1  460.08  460.08\n",
              "677                      ZOOTECNIA  Matutino        1.1  526.26  526.26\n",
              "\n",
              "[72 rows x 5 columns]"
            ]
          },
          "metadata": {
            "tags": []
          },
          "execution_count": 12
        }
      ]
    }
  ]
}