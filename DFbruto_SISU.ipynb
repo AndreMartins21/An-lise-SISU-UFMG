{
  "nbformat": 4,
  "nbformat_minor": 0,
  "metadata": {
    "colab": {
      "name": "DFbruto-SISU.ipynb",
      "provenance": [],
      "collapsed_sections": [
        "D-v91WZ7CVfI"
      ],
      "mount_file_id": "1devKXWYYf7EXnFfWKb9-mkRAripMxQ8z",
      "authorship_tag": "ABX9TyNPId0b0gxNH9ajNHWY6T9H",
      "include_colab_link": true
    },
    "kernelspec": {
      "name": "python3",
      "display_name": "Python 3"
    },
    "language_info": {
      "name": "python"
    }
  },
  "cells": [
    {
      "cell_type": "markdown",
      "metadata": {
        "id": "view-in-github",
        "colab_type": "text"
      },
      "source": [
        "<a href=\"https://colab.research.google.com/github/AndreMartins21/SISU-UFMG/blob/main/DFbruto_SISU.ipynb\" target=\"_parent\"><img src=\"https://colab.research.google.com/assets/colab-badge.svg\" alt=\"Open In Colab\"/></a>"
      ]
    },
    {
      "cell_type": "markdown",
      "metadata": {
        "id": "D-v91WZ7CVfI"
      },
      "source": [
        "# - LENDO O PDF, MANIPULANDO AS STRINGS E CRIANDO O DATAFRAME"
      ]
    },
    {
      "cell_type": "code",
      "metadata": {
        "colab": {
          "base_uri": "https://localhost:8080/"
        },
        "id": "ltma85C6aNsp",
        "outputId": "548321fb-1e7c-4597-dd7e-73b06d43f3ff"
      },
      "source": [
        "# Importando as Bibliotecas\n",
        "\n",
        "!pip install PyPDF2\n",
        "\n",
        "import PyPDF2 as PDF\n",
        "import pandas as pd\n",
        "import regex as re"
      ],
      "execution_count": 2,
      "outputs": [
        {
          "output_type": "stream",
          "text": [
            "Collecting PyPDF2\n",
            "\u001b[?25l  Downloading https://files.pythonhosted.org/packages/b4/01/68fcc0d43daf4c6bdbc6b33cc3f77bda531c86b174cac56ef0ffdb96faab/PyPDF2-1.26.0.tar.gz (77kB)\n",
            "\r\u001b[K     |████▎                           | 10kB 12.4MB/s eta 0:00:01\r\u001b[K     |████████▌                       | 20kB 13.3MB/s eta 0:00:01\r\u001b[K     |████████████▊                   | 30kB 10.0MB/s eta 0:00:01\r\u001b[K     |█████████████████               | 40kB 8.7MB/s eta 0:00:01\r\u001b[K     |█████████████████████▏          | 51kB 5.6MB/s eta 0:00:01\r\u001b[K     |█████████████████████████▍      | 61kB 5.6MB/s eta 0:00:01\r\u001b[K     |█████████████████████████████▋  | 71kB 5.7MB/s eta 0:00:01\r\u001b[K     |████████████████████████████████| 81kB 3.8MB/s \n",
            "\u001b[?25hBuilding wheels for collected packages: PyPDF2\n",
            "  Building wheel for PyPDF2 (setup.py) ... \u001b[?25l\u001b[?25hdone\n",
            "  Created wheel for PyPDF2: filename=PyPDF2-1.26.0-cp37-none-any.whl size=61085 sha256=08a1d972c005b854879d5d35af62b4d95aedf82825a55e69faa289bd1a008d03\n",
            "  Stored in directory: /root/.cache/pip/wheels/53/84/19/35bc977c8bf5f0c23a8a011aa958acd4da4bbd7a229315c1b7\n",
            "Successfully built PyPDF2\n",
            "Installing collected packages: PyPDF2\n",
            "Successfully installed PyPDF2-1.26.0\n"
          ],
          "name": "stdout"
        }
      ]
    },
    {
      "cell_type": "markdown",
      "metadata": {
        "id": "8gDNHe7IrTOY"
      },
      "source": [
        "**<> Lendo o arquivo PDF, e salvando todas as páginas**"
      ]
    },
    {
      "cell_type": "code",
      "metadata": {
        "id": "wZXFk50laeqt"
      },
      "source": [
        "arquivo = '/content/drive/MyDrive/Colab Notebooks/DataSet Kaggle/SISU UFMG.pdf'\n",
        "\n",
        "lerPDF = PDF.PdfFileReader(arquivo)\n",
        "\n",
        "num_page = lerPDF.numPages\n",
        "\n",
        "paginas = []\n",
        "\n",
        "# Filtrando os dados dos arquivos, separando somente os cursos / turnos / modalidade / máximo / mínimo\n",
        "for cont in range(0, num_page):\n",
        "  page = lerPDF.getPage(cont)\n",
        "\n",
        "  conteudo = page.extractText()\n",
        "\n",
        "  # SEPARAR SOMENTE OS CURSOS E SUAS NOTAS\n",
        "  inicio = conteudo.find(\"MínimoMáximo\") + len(\"MínimoMáximo\")\n",
        "\n",
        "  # Se for a última página:\n",
        "  if cont == 15:\n",
        "    fim = conteudo.find(\"334\")\n",
        "  else: \n",
        "    fim = conteudo.find(\"21/04/2021\")\n",
        "  \n",
        "  paginas.append(conteudo[inicio:fim])"
      ],
      "execution_count": 3,
      "outputs": []
    },
    {
      "cell_type": "code",
      "metadata": {
        "colab": {
          "base_uri": "https://localhost:8080/",
          "height": 0
        },
        "id": "J0-fj8h7fC6N",
        "outputId": "64d40094-26d2-4b8e-de1c-4366a16d8dc0"
      },
      "source": [
        "paginas[5]"
      ],
      "execution_count": 4,
      "outputs": [
        {
          "output_type": "execute_result",
          "data": {
            "application/vnd.google.colaboratory.intrinsic+json": {
              "type": "string"
            },
            "text/plain": [
              "'EDUCAÇÃO FÍSICA (Bacharelado)NoturnoAmplaconcorrência682,38768,30EDUCAÇÃO FÍSICA (Licenciatura)Matutino1.1460,60460,60EDUCAÇÃO FÍSICA (Licenciatura)Matutino1.2602,58628,22EDUCAÇÃO FÍSICA (Licenciatura)Matutino2.1436,00436,00EDUCAÇÃO FÍSICA (Licenciatura)Matutino2.2640,08662,94EDUCAÇÃO FÍSICA (Licenciatura)Matutino3.1499,32499,32EDUCAÇÃO FÍSICA (Licenciatura)Matutino3.2633,60671,58EDUCAÇÃO FÍSICA (Licenciatura)Matutino4.1589,92589,92EDUCAÇÃO FÍSICA (Licenciatura)Matutino4.2649,88677,42EDUCAÇÃO FÍSICA (Licenciatura)MatutinoAmplaconcorrência661,08689,90ENFERMAGEMMatutino1.1608,68608,68ENFERMAGEMMatutino1.2686,64718,28ENFERMAGEMMatutino2.1616,88616,88ENFERMAGEMMatutino2.2707,40722,92ENFERMAGEMMatutino3.1595,68595,68ENFERMAGEMMatutino3.2684,62735,64ENFERMAGEMMatutino4.1657,20657,20ENFERMAGEMMatutino4.2723,04740,42ENFERMAGEMMatutinoAmplaconcorrência727,52761,14ENGENHARIA AEROESPACIALMatutino1.1596,10596,10ENGENHARIA AEROESPACIALMatutino1.2699,08756,56ENGENHARIA AEROESPACIALMatutino2.1548,78548,78ENGENHARIA AEROESPACIALMatutino2.2760,10794,84ENGENHARIA AEROESPACIALMatutino3.1552,12552,12ENGENHARIA AEROESPACIALMatutino3.2717,46740,66ENGENHARIA AEROESPACIALMatutino4.2768,92789,00ENGENHARIA AEROESPACIALMatutinoAmplaconcorrência780,04816,26ENGENHARIA AGRÍCOLA E AMBIENTALMatutino1.1547,44547,44ENGENHARIA AGRÍCOLA E AMBIENTALMatutino1.2604,48637,74ENGENHARIA AGRÍCOLA E AMBIENTALMatutino2.2622,14630,54ENGENHARIA AGRÍCOLA E AMBIENTALMatutino3.1479,66479,66ENGENHARIA AGRÍCOLA E AMBIENTALMatutino3.2588,04716,56ENGENHARIA AGRÍCOLA E AMBIENTALMatutino4.2635,60671,42ENGENHARIA AGRÍCOLA E AMBIENTALMatutinoAmplaconcorrência639,94703,14ENGENHARIA AMBIENTALMatutino1.2649,72668,98ENGENHARIA AMBIENTALMatutino2.1472,98472,98ENGENHARIA AMBIENTALMatutino2.2695,40710,40ENGENHARIA AMBIENTALMatutino3.1476,24476,24ENGENHARIA AMBIENTALMatutino3.2662,34696,56ENGENHARIA AMBIENTALMatutino4.2708,56733,04ENGENHARIA AMBIENTALMatutinoAmplaconcorrência709,90814,30ENGENHARIA CIVILMatutino1.1506,52577,82ENGENHARIA CIVILMatutino1.2650,96676,52ENGENHARIA CIVILMatutino2.1517,92571,54ENGENHARIA CIVILMatutino2.2680,82714,52'"
            ]
          },
          "metadata": {
            "tags": []
          },
          "execution_count": 4
        }
      ]
    },
    {
      "cell_type": "code",
      "metadata": {
        "id": "ixW8VF7e-S2P"
      },
      "source": [
        "# SEPARANDO OS VALORES DE CADA COLUNA DO DATAFRAME\n",
        "\n",
        "def sep_curso(string):\n",
        "  \n",
        "  # \"6CIÊNCIAS CONTÁBEISNoturno\"\n",
        "  # Curso com maior nome tem 49 letras\n",
        "  \n",
        "  curso = r'[A-ZÍÃÓÇÔÊÉÁÂÚ\\s()(Bacharelado)(Licenciatura)]{0,49}[VNMI]'\n",
        "  find_curso = re.findall(curso, string)\n",
        "  find_curso = list([x[:-1] for x in find_curso])\n",
        "  return find_curso\n",
        "\n",
        "\n",
        "def sep_turno(string):\n",
        "\n",
        "  turno = r'Matutino|Noturno|Integral|Vespertino'\n",
        "\n",
        "  find_turno = re.findall(turno, string)\n",
        "\n",
        "  return find_turno\n",
        "\n",
        "def sep_modalidade(string):\n",
        "  #1.1 | Amplaconcorrência\n",
        "\n",
        "  modalidade = r'\\d{1}\\.\\d{1}|Amplaconcorrência'\n",
        "\n",
        "  find_modalidade = re.findall(modalidade, string)\n",
        "\n",
        "  return find_modalidade\n",
        "\n",
        "def sep_minimo(string):\n",
        "  #520,04\n",
        "\n",
        "  minimo = r'\\d{3},\\d{3}'\n",
        "\n",
        "  find_min = re.findall(minimo, string)\n",
        "  find_min = list([x[:6] for x in find_min])\n",
        "\n",
        "  return find_min\n",
        "\n",
        "def sep_maximo(string):\n",
        "  #04520\n",
        "\n",
        "  maximo = r'\\d{5},\\d{2}'\n",
        "\n",
        "  find_max = re.findall(maximo, string)\n",
        "  find_max = list([x[2:] for x in find_max])\n",
        "\n",
        "  return find_max\n"
      ],
      "execution_count": 5,
      "outputs": []
    },
    {
      "cell_type": "code",
      "metadata": {
        "colab": {
          "base_uri": "https://localhost:8080/",
          "height": 0
        },
        "id": "vWDfg7urQ667",
        "outputId": "01c6e41c-9f43-4196-ba39-264292e0a4ca"
      },
      "source": [
        "def data_frame(line):\n",
        "  '''\n",
        "  Função que retornará cada página do pdf em formato de DataFrame\n",
        "  '''\n",
        "  \n",
        "  line = paginas[line]\n",
        "\n",
        "  df_sisu = pd.DataFrame({\n",
        "      \"Curso\": sep_curso(line),\n",
        "      \"Turno\": sep_turno(line),\n",
        "      \"Modalidade\": sep_modalidade(line),\n",
        "      \"Mínimo\": sep_minimo(line),\n",
        "      \"Máximo\": sep_maximo(line)\n",
        "  })\n",
        "\n",
        "  return df_sisu\n",
        "\n",
        "data_frame(4).head()"
      ],
      "execution_count": 6,
      "outputs": [
        {
          "output_type": "execute_result",
          "data": {
            "text/html": [
              "<div>\n",
              "<style scoped>\n",
              "    .dataframe tbody tr th:only-of-type {\n",
              "        vertical-align: middle;\n",
              "    }\n",
              "\n",
              "    .dataframe tbody tr th {\n",
              "        vertical-align: top;\n",
              "    }\n",
              "\n",
              "    .dataframe thead th {\n",
              "        text-align: right;\n",
              "    }\n",
              "</style>\n",
              "<table border=\"1\" class=\"dataframe\">\n",
              "  <thead>\n",
              "    <tr style=\"text-align: right;\">\n",
              "      <th></th>\n",
              "      <th>Curso</th>\n",
              "      <th>Turno</th>\n",
              "      <th>Modalidade</th>\n",
              "      <th>Mínimo</th>\n",
              "      <th>Máximo</th>\n",
              "    </tr>\n",
              "  </thead>\n",
              "  <tbody>\n",
              "    <tr>\n",
              "      <th>0</th>\n",
              "      <td>CONTROLADORIA E FINANÇAS</td>\n",
              "      <td>Matutino</td>\n",
              "      <td>3.1</td>\n",
              "      <td>557,82</td>\n",
              "      <td>557,82</td>\n",
              "    </tr>\n",
              "    <tr>\n",
              "      <th>1</th>\n",
              "      <td>CONTROLADORIA E FINANÇAS</td>\n",
              "      <td>Matutino</td>\n",
              "      <td>3.2</td>\n",
              "      <td>647,38</td>\n",
              "      <td>689,68</td>\n",
              "    </tr>\n",
              "    <tr>\n",
              "      <th>2</th>\n",
              "      <td>CONTROLADORIA E FINANÇAS</td>\n",
              "      <td>Matutino</td>\n",
              "      <td>4.2</td>\n",
              "      <td>717,08</td>\n",
              "      <td>761,82</td>\n",
              "    </tr>\n",
              "    <tr>\n",
              "      <th>3</th>\n",
              "      <td>CONTROLADORIA E FINANÇAS</td>\n",
              "      <td>Matutino</td>\n",
              "      <td>Amplaconcorrência</td>\n",
              "      <td>716,56</td>\n",
              "      <td>781,84</td>\n",
              "    </tr>\n",
              "    <tr>\n",
              "      <th>4</th>\n",
              "      <td>DESIGN</td>\n",
              "      <td>Noturno</td>\n",
              "      <td>1.1</td>\n",
              "      <td>578,92</td>\n",
              "      <td>578,92</td>\n",
              "    </tr>\n",
              "  </tbody>\n",
              "</table>\n",
              "</div>"
            ],
            "text/plain": [
              "                      Curso     Turno         Modalidade  Mínimo  Máximo\n",
              "0  CONTROLADORIA E FINANÇAS  Matutino                3.1  557,82  557,82\n",
              "1  CONTROLADORIA E FINANÇAS  Matutino                3.2  647,38  689,68\n",
              "2  CONTROLADORIA E FINANÇAS  Matutino                4.2  717,08  761,82\n",
              "3  CONTROLADORIA E FINANÇAS  Matutino  Amplaconcorrência  716,56  781,84\n",
              "4                    DESIGN   Noturno                1.1  578,92  578,92"
            ]
          },
          "metadata": {
            "tags": []
          },
          "execution_count": 6
        }
      ]
    },
    {
      "cell_type": "markdown",
      "metadata": {
        "id": "mTVanEMVtX0v"
      },
      "source": [
        "# TRANSFORMANDO O ARQUIVO EM DATAFRAME E PASSANDO PARA .XLSX"
      ]
    },
    {
      "cell_type": "code",
      "metadata": {
        "colab": {
          "base_uri": "https://localhost:8080/",
          "height": 204
        },
        "id": "yteUz4_6td8A",
        "outputId": "bc2358d7-8b13-4412-e0d1-dad50f6074b1"
      },
      "source": [
        "# Montando o dataframe completo\n",
        "\n",
        "df = data_frame(0)\n",
        "\n",
        "for cont in range(1, 16):\n",
        "  df = df.append(data_frame(cont), ignore_index= True)\n",
        "\n",
        "# Transformando os valores de MÁXIMO e MÍNIMO em float\n",
        "\n",
        "df[\"Máximo\"] = df[\"Máximo\"].apply(lambda x: float(x.replace(\",\", \".\")))\n",
        "df[\"Mínimo\"] = df[\"Mínimo\"].apply(lambda x: float(x.replace(\",\", \".\")))\n",
        "\n",
        "df.tail()"
      ],
      "execution_count": 9,
      "outputs": [
        {
          "output_type": "execute_result",
          "data": {
            "text/html": [
              "<div>\n",
              "<style scoped>\n",
              "    .dataframe tbody tr th:only-of-type {\n",
              "        vertical-align: middle;\n",
              "    }\n",
              "\n",
              "    .dataframe tbody tr th {\n",
              "        vertical-align: top;\n",
              "    }\n",
              "\n",
              "    .dataframe thead th {\n",
              "        text-align: right;\n",
              "    }\n",
              "</style>\n",
              "<table border=\"1\" class=\"dataframe\">\n",
              "  <thead>\n",
              "    <tr style=\"text-align: right;\">\n",
              "      <th></th>\n",
              "      <th>Curso</th>\n",
              "      <th>Turno</th>\n",
              "      <th>Modalidade</th>\n",
              "      <th>Mínimo</th>\n",
              "      <th>Máximo</th>\n",
              "    </tr>\n",
              "  </thead>\n",
              "  <tbody>\n",
              "    <tr>\n",
              "      <th>679</th>\n",
              "      <td>ZOOTECNIA</td>\n",
              "      <td>Matutino</td>\n",
              "      <td>2.2</td>\n",
              "      <td>622.36</td>\n",
              "      <td>636.70</td>\n",
              "    </tr>\n",
              "    <tr>\n",
              "      <th>680</th>\n",
              "      <td>ZOOTECNIA</td>\n",
              "      <td>Matutino</td>\n",
              "      <td>3.1</td>\n",
              "      <td>494.06</td>\n",
              "      <td>494.06</td>\n",
              "    </tr>\n",
              "    <tr>\n",
              "      <th>681</th>\n",
              "      <td>ZOOTECNIA</td>\n",
              "      <td>Matutino</td>\n",
              "      <td>3.2</td>\n",
              "      <td>595.62</td>\n",
              "      <td>650.50</td>\n",
              "    </tr>\n",
              "    <tr>\n",
              "      <th>682</th>\n",
              "      <td>ZOOTECNIA</td>\n",
              "      <td>Matutino</td>\n",
              "      <td>4.2</td>\n",
              "      <td>626.86</td>\n",
              "      <td>646.20</td>\n",
              "    </tr>\n",
              "    <tr>\n",
              "      <th>683</th>\n",
              "      <td>ZOOTECNIA</td>\n",
              "      <td>Matutino</td>\n",
              "      <td>Amplaconcorrência</td>\n",
              "      <td>643.94</td>\n",
              "      <td>689.36</td>\n",
              "    </tr>\n",
              "  </tbody>\n",
              "</table>\n",
              "</div>"
            ],
            "text/plain": [
              "         Curso     Turno         Modalidade  Mínimo  Máximo\n",
              "679  ZOOTECNIA  Matutino                2.2  622.36  636.70\n",
              "680  ZOOTECNIA  Matutino                3.1  494.06  494.06\n",
              "681  ZOOTECNIA  Matutino                3.2  595.62  650.50\n",
              "682  ZOOTECNIA  Matutino                4.2  626.86  646.20\n",
              "683  ZOOTECNIA  Matutino  Amplaconcorrência  643.94  689.36"
            ]
          },
          "metadata": {
            "tags": []
          },
          "execution_count": 9
        }
      ]
    },
    {
      "cell_type": "code",
      "metadata": {
        "id": "zVe4u766t4Ef"
      },
      "source": [
        "# Transformando em arquivo Excel:\n",
        "\n",
        "df.to_excel(\"DF_SISU_UFMG.xlsx\")"
      ],
      "execution_count": null,
      "outputs": []
    },
    {
      "cell_type": "code",
      "metadata": {
        "colab": {
          "base_uri": "https://localhost:8080/",
          "height": 419
        },
        "id": "IVFU7QtuTFwk",
        "outputId": "65101346-0761-4cc0-80ec-e36a29cd9e31"
      },
      "source": [
        "df[df[\"Modalidade\"] == \"1.10\"]"
      ],
      "execution_count": 12,
      "outputs": [
        {
          "output_type": "execute_result",
          "data": {
            "text/html": [
              "<div>\n",
              "<style scoped>\n",
              "    .dataframe tbody tr th:only-of-type {\n",
              "        vertical-align: middle;\n",
              "    }\n",
              "\n",
              "    .dataframe tbody tr th {\n",
              "        vertical-align: top;\n",
              "    }\n",
              "\n",
              "    .dataframe thead th {\n",
              "        text-align: right;\n",
              "    }\n",
              "</style>\n",
              "<table border=\"1\" class=\"dataframe\">\n",
              "  <thead>\n",
              "    <tr style=\"text-align: right;\">\n",
              "      <th></th>\n",
              "      <th>Curso</th>\n",
              "      <th>Turno</th>\n",
              "      <th>Modalidade</th>\n",
              "      <th>Mínimo</th>\n",
              "      <th>Máximo</th>\n",
              "    </tr>\n",
              "  </thead>\n",
              "  <tbody>\n",
              "    <tr>\n",
              "      <th>0</th>\n",
              "      <td>ADMINISTRAÇÃO</td>\n",
              "      <td>Matutino</td>\n",
              "      <td>1.1</td>\n",
              "      <td>520.04</td>\n",
              "      <td>520.04</td>\n",
              "    </tr>\n",
              "    <tr>\n",
              "      <th>8</th>\n",
              "      <td>ADMINISTRAÇÃO</td>\n",
              "      <td>Noturno</td>\n",
              "      <td>1.1</td>\n",
              "      <td>541.86</td>\n",
              "      <td>541.86</td>\n",
              "    </tr>\n",
              "    <tr>\n",
              "      <th>16</th>\n",
              "      <td>ADMINISTRAÇÃO (MONTES CLAROS)</td>\n",
              "      <td>Noturno</td>\n",
              "      <td>1.1</td>\n",
              "      <td>501.08</td>\n",
              "      <td>501.08</td>\n",
              "    </tr>\n",
              "    <tr>\n",
              "      <th>23</th>\n",
              "      <td>AGRONOMIA</td>\n",
              "      <td>Matutino</td>\n",
              "      <td>1.1</td>\n",
              "      <td>573.14</td>\n",
              "      <td>573.14</td>\n",
              "    </tr>\n",
              "    <tr>\n",
              "      <th>30</th>\n",
              "      <td>ANTROPOLOGIA</td>\n",
              "      <td>Noturno</td>\n",
              "      <td>1.1</td>\n",
              "      <td>534.94</td>\n",
              "      <td>534.94</td>\n",
              "    </tr>\n",
              "    <tr>\n",
              "      <th>...</th>\n",
              "      <td>...</td>\n",
              "      <td>...</td>\n",
              "      <td>...</td>\n",
              "      <td>...</td>\n",
              "      <td>...</td>\n",
              "    </tr>\n",
              "    <tr>\n",
              "      <th>629</th>\n",
              "      <td>RADIOLOGIA</td>\n",
              "      <td>Noturno</td>\n",
              "      <td>1.1</td>\n",
              "      <td>569.02</td>\n",
              "      <td>569.02</td>\n",
              "    </tr>\n",
              "    <tr>\n",
              "      <th>645</th>\n",
              "      <td>ES PÚBLICAS</td>\n",
              "      <td>Matutino</td>\n",
              "      <td>1.1</td>\n",
              "      <td>476.92</td>\n",
              "      <td>476.92</td>\n",
              "    </tr>\n",
              "    <tr>\n",
              "      <th>652</th>\n",
              "      <td>SISTEMAS DE INFORMAÇÃO</td>\n",
              "      <td>Noturno</td>\n",
              "      <td>1.1</td>\n",
              "      <td>522.82</td>\n",
              "      <td>522.82</td>\n",
              "    </tr>\n",
              "    <tr>\n",
              "      <th>661</th>\n",
              "      <td>TERAPIA OCUPACIONAL</td>\n",
              "      <td>Matutino</td>\n",
              "      <td>1.1</td>\n",
              "      <td>460.08</td>\n",
              "      <td>460.08</td>\n",
              "    </tr>\n",
              "    <tr>\n",
              "      <th>677</th>\n",
              "      <td>ZOOTECNIA</td>\n",
              "      <td>Matutino</td>\n",
              "      <td>1.1</td>\n",
              "      <td>526.26</td>\n",
              "      <td>526.26</td>\n",
              "    </tr>\n",
              "  </tbody>\n",
              "</table>\n",
              "<p>72 rows × 5 columns</p>\n",
              "</div>"
            ],
            "text/plain": [
              "                             Curso     Turno Modalidade  Mínimo  Máximo\n",
              "0                    ADMINISTRAÇÃO  Matutino        1.1  520.04  520.04\n",
              "8                    ADMINISTRAÇÃO   Noturno        1.1  541.86  541.86\n",
              "16   ADMINISTRAÇÃO (MONTES CLAROS)   Noturno        1.1  501.08  501.08\n",
              "23                       AGRONOMIA  Matutino        1.1  573.14  573.14\n",
              "30                    ANTROPOLOGIA   Noturno        1.1  534.94  534.94\n",
              "..                             ...       ...        ...     ...     ...\n",
              "629                     RADIOLOGIA   Noturno        1.1  569.02  569.02\n",
              "645                    ES PÚBLICAS  Matutino        1.1  476.92  476.92\n",
              "652         SISTEMAS DE INFORMAÇÃO   Noturno        1.1  522.82  522.82\n",
              "661            TERAPIA OCUPACIONAL  Matutino        1.1  460.08  460.08\n",
              "677                      ZOOTECNIA  Matutino        1.1  526.26  526.26\n",
              "\n",
              "[72 rows x 5 columns]"
            ]
          },
          "metadata": {
            "tags": []
          },
          "execution_count": 12
        }
      ]
    }
  ]
}