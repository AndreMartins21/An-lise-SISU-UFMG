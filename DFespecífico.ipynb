{
  "nbformat": 4,
  "nbformat_minor": 0,
  "metadata": {
    "colab": {
      "name": "DFespecífico.ipynb",
      "provenance": [],
      "collapsed_sections": [
        "O4tfpJG1HE0e",
        "MSyC-S8WUOji",
        "5MPgRKpm1q35",
        "A5nCetWu2FwY",
        "MOft_eh96-Fb"
      ],
      "mount_file_id": "1kq-aiaim4mPil9NlkEpol5w_GOEXhrOQ",
      "authorship_tag": "ABX9TyMW4STHOUWFA57B/aVItSuf",
      "include_colab_link": true
    },
    "kernelspec": {
      "name": "python3",
      "display_name": "Python 3"
    },
    "language_info": {
      "name": "python"
    }
  },
  "cells": [
    {
      "cell_type": "markdown",
      "metadata": {
        "id": "view-in-github",
        "colab_type": "text"
      },
      "source": [
        "<a href=\"https://colab.research.google.com/github/AndreMartins21/SISU-UFMG/blob/main/DFespec%C3%ADfico.ipynb\" target=\"_parent\"><img src=\"https://colab.research.google.com/assets/colab-badge.svg\" alt=\"Open In Colab\"/></a>"
      ]
    },
    {
      "cell_type": "code",
      "metadata": {
        "colab": {
          "base_uri": "https://localhost:8080/",
          "height": 204
        },
        "id": "HR5y3tjrvlUX",
        "outputId": "4f15908c-147b-4d19-e389-598a587ab4eb"
      },
      "source": [
        "import pandas as pd\n",
        "import numpy as np\n",
        "\n",
        "df = pd.read_excel(\"/content/drive/MyDrive/Colab Notebooks/DataSet Kaggle/DF_SISU_UFMG.xlsx\")\n",
        "\n",
        "df.head()"
      ],
      "execution_count": 50,
      "outputs": [
        {
          "output_type": "execute_result",
          "data": {
            "text/html": [
              "<div>\n",
              "<style scoped>\n",
              "    .dataframe tbody tr th:only-of-type {\n",
              "        vertical-align: middle;\n",
              "    }\n",
              "\n",
              "    .dataframe tbody tr th {\n",
              "        vertical-align: top;\n",
              "    }\n",
              "\n",
              "    .dataframe thead th {\n",
              "        text-align: right;\n",
              "    }\n",
              "</style>\n",
              "<table border=\"1\" class=\"dataframe\">\n",
              "  <thead>\n",
              "    <tr style=\"text-align: right;\">\n",
              "      <th></th>\n",
              "      <th>Curso</th>\n",
              "      <th>Turno</th>\n",
              "      <th>Modalidade</th>\n",
              "      <th>Mínimo</th>\n",
              "      <th>Máximo</th>\n",
              "    </tr>\n",
              "  </thead>\n",
              "  <tbody>\n",
              "    <tr>\n",
              "      <th>0</th>\n",
              "      <td>ADMINISTRAÇÃO</td>\n",
              "      <td>Matutino</td>\n",
              "      <td>1.1</td>\n",
              "      <td>520.04</td>\n",
              "      <td>520.04</td>\n",
              "    </tr>\n",
              "    <tr>\n",
              "      <th>1</th>\n",
              "      <td>ADMINISTRAÇÃO</td>\n",
              "      <td>Matutino</td>\n",
              "      <td>1.2</td>\n",
              "      <td>642.08</td>\n",
              "      <td>674.66</td>\n",
              "    </tr>\n",
              "    <tr>\n",
              "      <th>2</th>\n",
              "      <td>ADMINISTRAÇÃO</td>\n",
              "      <td>Matutino</td>\n",
              "      <td>2.1</td>\n",
              "      <td>649.12</td>\n",
              "      <td>649.12</td>\n",
              "    </tr>\n",
              "    <tr>\n",
              "      <th>3</th>\n",
              "      <td>ADMINISTRAÇÃO</td>\n",
              "      <td>Matutino</td>\n",
              "      <td>2.2</td>\n",
              "      <td>698.38</td>\n",
              "      <td>719.48</td>\n",
              "    </tr>\n",
              "    <tr>\n",
              "      <th>4</th>\n",
              "      <td>ADMINISTRAÇÃO</td>\n",
              "      <td>Matutino</td>\n",
              "      <td>3.1</td>\n",
              "      <td>559.88</td>\n",
              "      <td>559.88</td>\n",
              "    </tr>\n",
              "  </tbody>\n",
              "</table>\n",
              "</div>"
            ],
            "text/plain": [
              "           Curso     Turno Modalidade  Mínimo  Máximo\n",
              "0  ADMINISTRAÇÃO  Matutino        1.1  520.04  520.04\n",
              "1  ADMINISTRAÇÃO  Matutino        1.2  642.08  674.66\n",
              "2  ADMINISTRAÇÃO  Matutino        2.1  649.12  649.12\n",
              "3  ADMINISTRAÇÃO  Matutino        2.2  698.38  719.48\n",
              "4  ADMINISTRAÇÃO  Matutino        3.1  559.88  559.88"
            ]
          },
          "metadata": {
            "tags": []
          },
          "execution_count": 50
        }
      ]
    },
    {
      "cell_type": "markdown",
      "metadata": {
        "id": "cbD-LICMCKO_"
      },
      "source": [
        "# **Organizando o dataframe**"
      ]
    },
    {
      "cell_type": "markdown",
      "metadata": {
        "id": "BHKw-wlWAECS"
      },
      "source": [
        "## **# Funções que irão separar o MÁXIMO e MÍNIMO por modalidade**"
      ]
    },
    {
      "cell_type": "code",
      "metadata": {
        "colab": {
          "base_uri": "https://localhost:8080/",
          "height": 204
        },
        "id": "FBhhBl0EJno3",
        "outputId": "b6b59286-debf-4288-a041-4c2cc9c86a76"
      },
      "source": [
        "modalidades = df[\"Modalidade\"].unique()\n",
        "\n",
        "def formatar_float(data_frame):\n",
        "  data_frame[\"Nota\"] = data_frame[\"Nota\"].apply(lambda x: str(x).replace(\".\", \",\"))\n",
        "\n",
        "  return data_frame[\"Nota\"]\n",
        "\n",
        "def curso_turno(data_frame):\n",
        "  '''\n",
        "  Função que mesclará o turno ao nome do curso. Ex: Medicina (Int) \n",
        "  '''\n",
        "\n",
        "  cursos = data_frame[\"Curso\"].values\n",
        "  turnos = list([x[:3] for x in data_frame[\"Turno\"].values])\n",
        "  new_cursos = []\n",
        "\n",
        "  for i, v in enumerate(cursos):\n",
        "    v = f\"{v} ({turnos[i]})\"\n",
        "    new_cursos.append(v)\n",
        "  \n",
        "  data_frame[\"Curso\"] = new_cursos\n",
        "\n",
        "  return data_frame[\"Curso\"]\n",
        "\n",
        "\n",
        "def criar_df(tipo=\"Máximo\", ind=0):\n",
        "\n",
        "  asc = False\n",
        "  if tipo == \"Mínimo\":\n",
        "    asc = True\n",
        "  \n",
        "  modal = modalidades[ind] # Var com a modalidade propriamente dita\n",
        "\n",
        "  df_modal = df[df[\"Modalidade\"] == modal]\n",
        "\n",
        "  df_modal = df_modal.sort_values(tipo, ascending = asc, ignore_index = True).head()\n",
        "\n",
        "  df_modal[\"Nota\"] = df_modal[tipo].values\n",
        "\n",
        "  # Trocando os valores de float (\".\") para (\",\")\n",
        "  df_modal[\"Nota\"] = formatar_float(df_modal)\n",
        "\n",
        "  # Mesclando a sigla dos turnos aos seus respectivos turnos\n",
        "  df_modal[\"Curso\"] = curso_turno(df_modal)\n",
        "\n",
        "  return df_modal[[\"Curso\", \"Nota\", \"Modalidade\"]], modal\n",
        "\n",
        "d, i = criar_df(ind= 7)\n",
        "\n",
        "d"
      ],
      "execution_count": 51,
      "outputs": [
        {
          "output_type": "execute_result",
          "data": {
            "text/html": [
              "<div>\n",
              "<style scoped>\n",
              "    .dataframe tbody tr th:only-of-type {\n",
              "        vertical-align: middle;\n",
              "    }\n",
              "\n",
              "    .dataframe tbody tr th {\n",
              "        vertical-align: top;\n",
              "    }\n",
              "\n",
              "    .dataframe thead th {\n",
              "        text-align: right;\n",
              "    }\n",
              "</style>\n",
              "<table border=\"1\" class=\"dataframe\">\n",
              "  <thead>\n",
              "    <tr style=\"text-align: right;\">\n",
              "      <th></th>\n",
              "      <th>Curso</th>\n",
              "      <th>Nota</th>\n",
              "      <th>Modalidade</th>\n",
              "    </tr>\n",
              "  </thead>\n",
              "  <tbody>\n",
              "    <tr>\n",
              "      <th>0</th>\n",
              "      <td>CIÊNCIA DA COMPUTAÇÃO (Mat)</td>\n",
              "      <td>845,0</td>\n",
              "      <td>Amplaconcorrência</td>\n",
              "    </tr>\n",
              "    <tr>\n",
              "      <th>1</th>\n",
              "      <td>MEDICINA (Int)</td>\n",
              "      <td>836,5</td>\n",
              "      <td>Amplaconcorrência</td>\n",
              "    </tr>\n",
              "    <tr>\n",
              "      <th>2</th>\n",
              "      <td>MATEMÁTICA COMPUTACIONAL (Mat)</td>\n",
              "      <td>822,9</td>\n",
              "      <td>Amplaconcorrência</td>\n",
              "    </tr>\n",
              "    <tr>\n",
              "      <th>3</th>\n",
              "      <td>CIÊNCIAS ECONÔMICAS (Mat)</td>\n",
              "      <td>818,16</td>\n",
              "      <td>Amplaconcorrência</td>\n",
              "    </tr>\n",
              "    <tr>\n",
              "      <th>4</th>\n",
              "      <td>ENGENHARIA MECÂNICA (Not)</td>\n",
              "      <td>817,0</td>\n",
              "      <td>Amplaconcorrência</td>\n",
              "    </tr>\n",
              "  </tbody>\n",
              "</table>\n",
              "</div>"
            ],
            "text/plain": [
              "                            Curso    Nota         Modalidade\n",
              "0     CIÊNCIA DA COMPUTAÇÃO (Mat)   845,0  Amplaconcorrência\n",
              "1                  MEDICINA (Int)   836,5  Amplaconcorrência\n",
              "2  MATEMÁTICA COMPUTACIONAL (Mat)   822,9  Amplaconcorrência\n",
              "3       CIÊNCIAS ECONÔMICAS (Mat)  818,16  Amplaconcorrência\n",
              "4       ENGENHARIA MECÂNICA (Not)   817,0  Amplaconcorrência"
            ]
          },
          "metadata": {
            "tags": []
          },
          "execution_count": 51
        }
      ]
    },
    {
      "cell_type": "code",
      "metadata": {
        "colab": {
          "base_uri": "https://localhost:8080/",
          "height": 266
        },
        "id": "MskMOc1vJr6X",
        "outputId": "3073a85e-8daf-48e5-c2e0-0ffd39110299"
      },
      "source": [
        "# Montando o dataframe completo com os 5 mínimos e máximos de cada modalidade\n",
        "\n",
        "df_esp = pd.DataFrame()\n",
        "m = 0\n",
        "\n",
        "for tipo in [\"Mínimo\", \"Máximo\"]:\n",
        "  \n",
        "  for modal in range(0, len(modalidades)):\n",
        "\n",
        "    dataf, m = criar_df(tipo, modal)\n",
        "\n",
        "    df_esp = df_esp.append(dataf, ignore_index=True)\n",
        "\n",
        "df_esp.head(7)"
      ],
      "execution_count": 52,
      "outputs": [
        {
          "output_type": "execute_result",
          "data": {
            "text/html": [
              "<div>\n",
              "<style scoped>\n",
              "    .dataframe tbody tr th:only-of-type {\n",
              "        vertical-align: middle;\n",
              "    }\n",
              "\n",
              "    .dataframe tbody tr th {\n",
              "        vertical-align: top;\n",
              "    }\n",
              "\n",
              "    .dataframe thead th {\n",
              "        text-align: right;\n",
              "    }\n",
              "</style>\n",
              "<table border=\"1\" class=\"dataframe\">\n",
              "  <thead>\n",
              "    <tr style=\"text-align: right;\">\n",
              "      <th></th>\n",
              "      <th>Curso</th>\n",
              "      <th>Nota</th>\n",
              "      <th>Modalidade</th>\n",
              "    </tr>\n",
              "  </thead>\n",
              "  <tbody>\n",
              "    <tr>\n",
              "      <th>0</th>\n",
              "      <td>BIBLIOTECONOMIA (Not)</td>\n",
              "      <td>398,7</td>\n",
              "      <td>1.1</td>\n",
              "    </tr>\n",
              "    <tr>\n",
              "      <th>1</th>\n",
              "      <td>AQUACULTURA (Mat)</td>\n",
              "      <td>434,74</td>\n",
              "      <td>1.1</td>\n",
              "    </tr>\n",
              "    <tr>\n",
              "      <th>2</th>\n",
              "      <td>GEOGRAFIA (Not)</td>\n",
              "      <td>439,42</td>\n",
              "      <td>1.1</td>\n",
              "    </tr>\n",
              "    <tr>\n",
              "      <th>3</th>\n",
              "      <td>CONTROLADORIA E FINANÇAS (Mat)</td>\n",
              "      <td>441,06</td>\n",
              "      <td>1.1</td>\n",
              "    </tr>\n",
              "    <tr>\n",
              "      <th>4</th>\n",
              "      <td>TERAPIA OCUPACIONAL (Mat)</td>\n",
              "      <td>460,08</td>\n",
              "      <td>1.1</td>\n",
              "    </tr>\n",
              "    <tr>\n",
              "      <th>5</th>\n",
              "      <td>CONSERVAÇÃO E RESTAURAÇÃO DE BENSCULTURAIS MÓV...</td>\n",
              "      <td>583,52</td>\n",
              "      <td>1.2</td>\n",
              "    </tr>\n",
              "    <tr>\n",
              "      <th>6</th>\n",
              "      <td>ENGENHARIA DE ALIMENTOS (Mat)</td>\n",
              "      <td>589,68</td>\n",
              "      <td>1.2</td>\n",
              "    </tr>\n",
              "  </tbody>\n",
              "</table>\n",
              "</div>"
            ],
            "text/plain": [
              "                                               Curso    Nota Modalidade\n",
              "0                              BIBLIOTECONOMIA (Not)   398,7        1.1\n",
              "1                                  AQUACULTURA (Mat)  434,74        1.1\n",
              "2                                    GEOGRAFIA (Not)  439,42        1.1\n",
              "3                     CONTROLADORIA E FINANÇAS (Mat)  441,06        1.1\n",
              "4                          TERAPIA OCUPACIONAL (Mat)  460,08        1.1\n",
              "5  CONSERVAÇÃO E RESTAURAÇÃO DE BENSCULTURAIS MÓV...  583,52        1.2\n",
              "6                      ENGENHARIA DE ALIMENTOS (Mat)  589,68        1.2"
            ]
          },
          "metadata": {
            "tags": []
          },
          "execution_count": 52
        }
      ]
    },
    {
      "cell_type": "code",
      "metadata": {
        "id": "fIL5pF4WKGKC"
      },
      "source": [
        "# Passando para o Excel:\n",
        "\n",
        "df_esp.to_excel(\"DataFrameEspecSISU.xlsx\")"
      ],
      "execution_count": 53,
      "outputs": []
    }
  ]
}