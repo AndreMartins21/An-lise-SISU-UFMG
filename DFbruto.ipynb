{
  "nbformat": 4,
  "nbformat_minor": 0,
  "metadata": {
    "colab": {
      "name": "DFbruto.ipynb",
      "provenance": [],
      "collapsed_sections": [
        "D-v91WZ7CVfI"
      ],
      "mount_file_id": "1devKXWYYf7EXnFfWKb9-mkRAripMxQ8z",
      "authorship_tag": "ABX9TyMDdu0pQF1j1VWP5YDWO667",
      "include_colab_link": true
    },
    "kernelspec": {
      "name": "python3",
      "display_name": "Python 3"
    },
    "language_info": {
      "name": "python"
    }
  },
  "cells": [
    {
      "cell_type": "markdown",
      "metadata": {
        "id": "view-in-github",
        "colab_type": "text"
      },
      "source": [
        "<a href=\"https://colab.research.google.com/github/AndreMartins21/SISU-UFMG/blob/main/DFbruto.ipynb\" target=\"_parent\"><img src=\"https://colab.research.google.com/assets/colab-badge.svg\" alt=\"Open In Colab\"/></a>"
      ]
    },
    {
      "cell_type": "markdown",
      "metadata": {
        "id": "D-v91WZ7CVfI"
      },
      "source": [
        "# - LENDO O PDF, MANIPULANDO AS STRINGS E CRIANDO O DATAFRAME"
      ]
    },
    {
      "cell_type": "code",
      "metadata": {
        "colab": {
          "base_uri": "https://localhost:8080/"
        },
        "id": "ltma85C6aNsp",
        "outputId": "9d8f1b3a-3c40-447e-d9cd-d71ac7acd42d"
      },
      "source": [
        "# Importando as Bibliotecas\n",
        "\n",
        "!pip install PyPDF2\n",
        "\n",
        "import PyPDF2 as PDF\n",
        "import pandas as pd\n",
        "import regex as re"
      ],
      "execution_count": 2,
      "outputs": [
        {
          "output_type": "stream",
          "text": [
            "Requirement already satisfied: PyPDF2 in /usr/local/lib/python3.7/dist-packages (1.26.0)\n"
          ],
          "name": "stdout"
        }
      ]
    },
    {
      "cell_type": "code",
      "metadata": {
        "id": "UrdK8YA_112I"
      },
      "source": [
        "# Dados\n",
        "\n",
        "arquivo1 = '/content/drive/MyDrive/Colab Notebooks/DataSet Kaggle/CHAMADA_REGULAR.pdf'\n",
        "\n",
        "arquivo2 = '/content/drive/MyDrive/Colab Notebooks/DataSet Kaggle/1°CHAMADA.pdf'"
      ],
      "execution_count": 72,
      "outputs": []
    },
    {
      "cell_type": "markdown",
      "metadata": {
        "id": "8gDNHe7IrTOY"
      },
      "source": [
        "**<> Lendo o arquivo PDF, e salvando todas as páginas**"
      ]
    },
    {
      "cell_type": "code",
      "metadata": {
        "id": "wZXFk50laeqt"
      },
      "source": [
        "def ler_pdf(arquivo):\n",
        "  pdf_lido = PDF.PdfFileReader(arquivo)\n",
        "\n",
        "  num_page = pdf_lido.numPages\n",
        "\n",
        "  paginas = []\n",
        "\n",
        "  # Filtrando os dados dos arquivos, separando somente os cursos / turnos / modalidade / máximo / mínimo\n",
        "  for cont in range(0, num_page):\n",
        "    page = pdf_lido.getPage(cont)\n",
        "\n",
        "    conteudo = page.extractText()\n",
        "\n",
        "    # SEPARAR SOMENTE OS CURSOS E SUAS NOTAS\n",
        "    inicio = conteudo.find(\"MínimoMáximo\") + len(\"MínimoMáximo\")\n",
        "\n",
        "    # Se for a última página:\n",
        "    if cont == num_page-1:\n",
        "      fim = conteudo.find('Mínimogeral') - 6\n",
        "\n",
        "    elif conteudo.find(\"21/04/2021\") != -1: \n",
        "      fim = conteudo.find(\"21/04/2021\")\n",
        "    \n",
        "    else:\n",
        "      fim = conteudo.find(\"28/04/2021\")\n",
        "\n",
        "    paginas.append(conteudo[inicio:fim])\n",
        "  return paginas\n",
        "\n",
        "cham_regular = ler_pdf(arquivo1)\n",
        "\n",
        "prim_chamada = ler_pdf(arquivo2)"
      ],
      "execution_count": 65,
      "outputs": []
    },
    {
      "cell_type": "code",
      "metadata": {
        "colab": {
          "base_uri": "https://localhost:8080/",
          "height": 52
        },
        "id": "J0-fj8h7fC6N",
        "outputId": "0980ce2b-ed5a-4a89-8b25-94509aac9e94"
      },
      "source": [
        "prim_chamada[4][:300]"
      ],
      "execution_count": 69,
      "outputs": [
        {
          "output_type": "execute_result",
          "data": {
            "application/vnd.google.colaboratory.intrinsic+json": {
              "type": "string"
            },
            "text/plain": [
              "'CONTROLADORIA E FINANÇASMatutino3.1557,82557,82CONTROLADORIA E FINANÇASMatutino3.2639,32689,68CONTROLADORIA E FINANÇASMatutino4.2717,08761,82CONTROLADORIA E FINANÇASMatutinoAmplaconcorrência716,56781,84DESIGNNoturno1.1466,54578,92DESIGNNoturno1.2652,94686,90DESIGNNoturno2.2682,56743,24DESIGNNoturno3'"
            ]
          },
          "metadata": {
            "tags": []
          },
          "execution_count": 69
        }
      ]
    },
    {
      "cell_type": "code",
      "metadata": {
        "id": "ixW8VF7e-S2P"
      },
      "source": [
        "# SEPARANDO OS VALORES DE CADA COLUNA DO DATAFRAME\n",
        "\n",
        "def sep_curso(string):\n",
        "  \n",
        "  # \"6CIÊNCIAS CONTÁBEISNoturno\"\n",
        "  # Curso com maior nome tem 49 letras\n",
        "  \n",
        "  curso = r'[A-ZÍÃÓÇÔÊÉÁÂÚ\\s()(Bacharelado)(Licenciatura)]{0,49}[VNMI]'\n",
        "  find_curso = re.findall(curso, string)\n",
        "  find_curso = list([x[:-1] for x in find_curso])\n",
        "  return find_curso\n",
        "\n",
        "\n",
        "def sep_turno(string):\n",
        "\n",
        "  turno = r'Matutino|Noturno|Integral|Vespertino'\n",
        "\n",
        "  find_turno = re.findall(turno, string)\n",
        "\n",
        "  return find_turno\n",
        "\n",
        "def sep_modalidade(string):\n",
        "  #1.1 | Amplaconcorrência\n",
        "\n",
        "  modalidade = r'\\d{1}\\.\\d{1}|Amplaconcorrência'\n",
        "\n",
        "  find_modalidade = re.findall(modalidade, string)\n",
        "\n",
        "  return find_modalidade\n",
        "\n",
        "def sep_minimo(string):\n",
        "  #520,04\n",
        "\n",
        "  minimo = r'\\d{3},\\d{3}'\n",
        "\n",
        "  find_min = re.findall(minimo, string)\n",
        "  find_min = list([x[:6] for x in find_min])\n",
        "\n",
        "  return find_min\n",
        "\n",
        "def sep_maximo(string):\n",
        "  #04520\n",
        "\n",
        "  maximo = r'\\d{5},\\d{2}'\n",
        "\n",
        "  find_max = re.findall(maximo, string)\n",
        "  find_max = list([x[2:] for x in find_max])\n",
        "\n",
        "  return find_max"
      ],
      "execution_count": 70,
      "outputs": []
    },
    {
      "cell_type": "code",
      "metadata": {
        "colab": {
          "base_uri": "https://localhost:8080/",
          "height": 204
        },
        "id": "vWDfg7urQ667",
        "outputId": "598f59c4-4a2c-4c30-ffcc-c2b49f686800"
      },
      "source": [
        "def data_frame(arq, line):\n",
        "  '''\n",
        "  Função que retornará cada página do pdf em formato de DataFrame\n",
        "  '''\n",
        "  \n",
        "  line = arq[line]\n",
        "\n",
        "  df_sisu = pd.DataFrame({\n",
        "      \"Curso\": sep_curso(line),\n",
        "      \"Turno\": sep_turno(line),\n",
        "      \"Modalidade\": sep_modalidade(line),\n",
        "      \"Mínimo\": sep_minimo(line),\n",
        "      \"Máximo\": sep_maximo(line)\n",
        "  })\n",
        "\n",
        "  return df_sisu\n",
        "\n",
        "data_frame(prim_chamada, 15).head()"
      ],
      "execution_count": 73,
      "outputs": [
        {
          "output_type": "execute_result",
          "data": {
            "text/html": [
              "<div>\n",
              "<style scoped>\n",
              "    .dataframe tbody tr th:only-of-type {\n",
              "        vertical-align: middle;\n",
              "    }\n",
              "\n",
              "    .dataframe tbody tr th {\n",
              "        vertical-align: top;\n",
              "    }\n",
              "\n",
              "    .dataframe thead th {\n",
              "        text-align: right;\n",
              "    }\n",
              "</style>\n",
              "<table border=\"1\" class=\"dataframe\">\n",
              "  <thead>\n",
              "    <tr style=\"text-align: right;\">\n",
              "      <th></th>\n",
              "      <th>Curso</th>\n",
              "      <th>Turno</th>\n",
              "      <th>Modalidade</th>\n",
              "      <th>Mínimo</th>\n",
              "      <th>Máximo</th>\n",
              "    </tr>\n",
              "  </thead>\n",
              "  <tbody>\n",
              "    <tr>\n",
              "      <th>0</th>\n",
              "      <td>TERAPIA OCUPACIONAL</td>\n",
              "      <td>Matutino</td>\n",
              "      <td>2.2</td>\n",
              "      <td>666,92</td>\n",
              "      <td>715,84</td>\n",
              "    </tr>\n",
              "    <tr>\n",
              "      <th>1</th>\n",
              "      <td>TERAPIA OCUPACIONAL</td>\n",
              "      <td>Matutino</td>\n",
              "      <td>3.1</td>\n",
              "      <td>495,34</td>\n",
              "      <td>513,18</td>\n",
              "    </tr>\n",
              "    <tr>\n",
              "      <th>2</th>\n",
              "      <td>TERAPIA OCUPACIONAL</td>\n",
              "      <td>Matutino</td>\n",
              "      <td>3.2</td>\n",
              "      <td>622,32</td>\n",
              "      <td>659,74</td>\n",
              "    </tr>\n",
              "    <tr>\n",
              "      <th>3</th>\n",
              "      <td>TERAPIA OCUPACIONAL</td>\n",
              "      <td>Matutino</td>\n",
              "      <td>4.1</td>\n",
              "      <td>577,84</td>\n",
              "      <td>577,84</td>\n",
              "    </tr>\n",
              "    <tr>\n",
              "      <th>4</th>\n",
              "      <td>TERAPIA OCUPACIONAL</td>\n",
              "      <td>Matutino</td>\n",
              "      <td>4.2</td>\n",
              "      <td>670,74</td>\n",
              "      <td>705,00</td>\n",
              "    </tr>\n",
              "  </tbody>\n",
              "</table>\n",
              "</div>"
            ],
            "text/plain": [
              "                 Curso     Turno Modalidade  Mínimo  Máximo\n",
              "0  TERAPIA OCUPACIONAL  Matutino        2.2  666,92  715,84\n",
              "1  TERAPIA OCUPACIONAL  Matutino        3.1  495,34  513,18\n",
              "2  TERAPIA OCUPACIONAL  Matutino        3.2  622,32  659,74\n",
              "3  TERAPIA OCUPACIONAL  Matutino        4.1  577,84  577,84\n",
              "4  TERAPIA OCUPACIONAL  Matutino        4.2  670,74  705,00"
            ]
          },
          "metadata": {
            "tags": []
          },
          "execution_count": 73
        }
      ]
    },
    {
      "cell_type": "markdown",
      "metadata": {
        "id": "mTVanEMVtX0v"
      },
      "source": [
        "# PASSANDO O ARQUIVO PARA .XLSX"
      ]
    },
    {
      "cell_type": "code",
      "metadata": {
        "id": "yteUz4_6td8A"
      },
      "source": [
        "# Montando o dataframe completo\n",
        "\n",
        "dfs = []\n",
        "for arq in [cham_regular, prim_chamada]:\n",
        "  \n",
        "  df = data_frame(arq, 0)\n",
        "\n",
        "  for cont in range(1, 16):  \n",
        "    df = df.append(data_frame(arq, cont), ignore_index= True)\n",
        "\n",
        "    # Transformando os valores de MÁXIMO e MÍNIMO em float\n",
        "    df[\"Máximo\"] = df[\"Máximo\"].apply(lambda x: x.replace(\",\", \".\"))\n",
        "    df[\"Mínimo\"] = df[\"Mínimo\"].apply(lambda x: x.replace(\",\", \".\"))\n",
        "\n",
        "  dfs.append(df)\n",
        "\n",
        "df_regular = dfs[0]\n",
        "\n",
        "df_1chamada = dfs[1]"
      ],
      "execution_count": 90,
      "outputs": []
    },
    {
      "cell_type": "code",
      "metadata": {
        "colab": {
          "base_uri": "https://localhost:8080/",
          "height": 204
        },
        "id": "IxbtlSXhC4hW",
        "outputId": "f71844c6-b454-466b-8c9c-d9887e575234"
      },
      "source": [
        "df_regular.head()"
      ],
      "execution_count": 92,
      "outputs": [
        {
          "output_type": "execute_result",
          "data": {
            "text/html": [
              "<div>\n",
              "<style scoped>\n",
              "    .dataframe tbody tr th:only-of-type {\n",
              "        vertical-align: middle;\n",
              "    }\n",
              "\n",
              "    .dataframe tbody tr th {\n",
              "        vertical-align: top;\n",
              "    }\n",
              "\n",
              "    .dataframe thead th {\n",
              "        text-align: right;\n",
              "    }\n",
              "</style>\n",
              "<table border=\"1\" class=\"dataframe\">\n",
              "  <thead>\n",
              "    <tr style=\"text-align: right;\">\n",
              "      <th></th>\n",
              "      <th>Curso</th>\n",
              "      <th>Turno</th>\n",
              "      <th>Modalidade</th>\n",
              "      <th>Mínimo</th>\n",
              "      <th>Máximo</th>\n",
              "    </tr>\n",
              "  </thead>\n",
              "  <tbody>\n",
              "    <tr>\n",
              "      <th>0</th>\n",
              "      <td>ADMINISTRAÇÃO</td>\n",
              "      <td>Matutino</td>\n",
              "      <td>1.1</td>\n",
              "      <td>520.04</td>\n",
              "      <td>520.04</td>\n",
              "    </tr>\n",
              "    <tr>\n",
              "      <th>1</th>\n",
              "      <td>ADMINISTRAÇÃO</td>\n",
              "      <td>Matutino</td>\n",
              "      <td>1.2</td>\n",
              "      <td>642.08</td>\n",
              "      <td>674.66</td>\n",
              "    </tr>\n",
              "    <tr>\n",
              "      <th>2</th>\n",
              "      <td>ADMINISTRAÇÃO</td>\n",
              "      <td>Matutino</td>\n",
              "      <td>2.1</td>\n",
              "      <td>649.12</td>\n",
              "      <td>649.12</td>\n",
              "    </tr>\n",
              "    <tr>\n",
              "      <th>3</th>\n",
              "      <td>ADMINISTRAÇÃO</td>\n",
              "      <td>Matutino</td>\n",
              "      <td>2.2</td>\n",
              "      <td>698.38</td>\n",
              "      <td>719.48</td>\n",
              "    </tr>\n",
              "    <tr>\n",
              "      <th>4</th>\n",
              "      <td>ADMINISTRAÇÃO</td>\n",
              "      <td>Matutino</td>\n",
              "      <td>3.1</td>\n",
              "      <td>559.88</td>\n",
              "      <td>559.88</td>\n",
              "    </tr>\n",
              "  </tbody>\n",
              "</table>\n",
              "</div>"
            ],
            "text/plain": [
              "           Curso     Turno Modalidade  Mínimo  Máximo\n",
              "0  ADMINISTRAÇÃO  Matutino        1.1  520.04  520.04\n",
              "1  ADMINISTRAÇÃO  Matutino        1.2  642.08  674.66\n",
              "2  ADMINISTRAÇÃO  Matutino        2.1  649.12  649.12\n",
              "3  ADMINISTRAÇÃO  Matutino        2.2  698.38  719.48\n",
              "4  ADMINISTRAÇÃO  Matutino        3.1  559.88  559.88"
            ]
          },
          "metadata": {
            "tags": []
          },
          "execution_count": 92
        }
      ]
    },
    {
      "cell_type": "code",
      "metadata": {
        "colab": {
          "base_uri": "https://localhost:8080/",
          "height": 204
        },
        "id": "XTdtkbtBC76G",
        "outputId": "2b7bbd35-3d48-4eb9-c68d-6f587b6732e4"
      },
      "source": [
        "df_1chamada.head()"
      ],
      "execution_count": 93,
      "outputs": [
        {
          "output_type": "execute_result",
          "data": {
            "text/html": [
              "<div>\n",
              "<style scoped>\n",
              "    .dataframe tbody tr th:only-of-type {\n",
              "        vertical-align: middle;\n",
              "    }\n",
              "\n",
              "    .dataframe tbody tr th {\n",
              "        vertical-align: top;\n",
              "    }\n",
              "\n",
              "    .dataframe thead th {\n",
              "        text-align: right;\n",
              "    }\n",
              "</style>\n",
              "<table border=\"1\" class=\"dataframe\">\n",
              "  <thead>\n",
              "    <tr style=\"text-align: right;\">\n",
              "      <th></th>\n",
              "      <th>Curso</th>\n",
              "      <th>Turno</th>\n",
              "      <th>Modalidade</th>\n",
              "      <th>Mínimo</th>\n",
              "      <th>Máximo</th>\n",
              "    </tr>\n",
              "  </thead>\n",
              "  <tbody>\n",
              "    <tr>\n",
              "      <th>0</th>\n",
              "      <td>ADMINISTRAÇÃO</td>\n",
              "      <td>Matutino</td>\n",
              "      <td>1.1</td>\n",
              "      <td>520.04</td>\n",
              "      <td>520.04</td>\n",
              "    </tr>\n",
              "    <tr>\n",
              "      <th>1</th>\n",
              "      <td>ADMINISTRAÇÃO</td>\n",
              "      <td>Matutino</td>\n",
              "      <td>1.2</td>\n",
              "      <td>638.12</td>\n",
              "      <td>674.66</td>\n",
              "    </tr>\n",
              "    <tr>\n",
              "      <th>2</th>\n",
              "      <td>ADMINISTRAÇÃO</td>\n",
              "      <td>Matutino</td>\n",
              "      <td>2.1</td>\n",
              "      <td>649.12</td>\n",
              "      <td>649.12</td>\n",
              "    </tr>\n",
              "    <tr>\n",
              "      <th>3</th>\n",
              "      <td>ADMINISTRAÇÃO</td>\n",
              "      <td>Matutino</td>\n",
              "      <td>2.2</td>\n",
              "      <td>667.98</td>\n",
              "      <td>719.48</td>\n",
              "    </tr>\n",
              "    <tr>\n",
              "      <th>4</th>\n",
              "      <td>ADMINISTRAÇÃO</td>\n",
              "      <td>Matutino</td>\n",
              "      <td>3.1</td>\n",
              "      <td>559.88</td>\n",
              "      <td>559.88</td>\n",
              "    </tr>\n",
              "  </tbody>\n",
              "</table>\n",
              "</div>"
            ],
            "text/plain": [
              "           Curso     Turno Modalidade  Mínimo  Máximo\n",
              "0  ADMINISTRAÇÃO  Matutino        1.1  520.04  520.04\n",
              "1  ADMINISTRAÇÃO  Matutino        1.2  638.12  674.66\n",
              "2  ADMINISTRAÇÃO  Matutino        2.1  649.12  649.12\n",
              "3  ADMINISTRAÇÃO  Matutino        2.2  667.98  719.48\n",
              "4  ADMINISTRAÇÃO  Matutino        3.1  559.88  559.88"
            ]
          },
          "metadata": {
            "tags": []
          },
          "execution_count": 93
        }
      ]
    },
    {
      "cell_type": "code",
      "metadata": {
        "id": "zVe4u766t4Ef"
      },
      "source": [
        "# Transformando em arquivo Excel:\n",
        "\n",
        "excel = pd.ExcelWriter('Maximo_Minimo_UFMG.xlsx')\n",
        "\n",
        "df_regular.to_excel(excel, sheet_name='Chamada Regular')\n",
        "df_1chamada.to_excel(excel, sheet_name='1° Chamada')\n",
        "\n",
        "excel.save()"
      ],
      "execution_count": 102,
      "outputs": []
    }
  ]
}