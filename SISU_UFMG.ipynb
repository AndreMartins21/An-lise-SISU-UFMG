{
  "nbformat": 4,
  "nbformat_minor": 0,
  "metadata": {
    "colab": {
      "name": "SISU UFMG.ipynb",
      "provenance": [],
      "collapsed_sections": [
        "D-v91WZ7CVfI"
      ],
      "mount_file_id": "1devKXWYYf7EXnFfWKb9-mkRAripMxQ8z",
      "authorship_tag": "ABX9TyNgzKJDBRPeIJAbGSeDuFwh",
      "include_colab_link": true
    },
    "kernelspec": {
      "name": "python3",
      "display_name": "Python 3"
    },
    "language_info": {
      "name": "python"
    }
  },
  "cells": [
    {
      "cell_type": "markdown",
      "metadata": {
        "id": "view-in-github",
        "colab_type": "text"
      },
      "source": [
        "<a href=\"https://colab.research.google.com/github/AndreMartins21/Analise-SISU-UFMG/blob/main/SISU_UFMG.ipynb\" target=\"_parent\"><img src=\"https://colab.research.google.com/assets/colab-badge.svg\" alt=\"Open In Colab\"/></a>"
      ]
    },
    {
      "cell_type": "markdown",
      "metadata": {
        "id": "D-v91WZ7CVfI"
      },
      "source": [
        "# - LENDO O PDF, MANIPULANDO AS STRINGS E CRIANDO O DATAFRAME"
      ]
    },
    {
      "cell_type": "code",
      "metadata": {
        "colab": {
          "base_uri": "https://localhost:8080/"
        },
        "id": "ltma85C6aNsp",
        "outputId": "b4bbe6f5-12f8-4741-df20-6d22e0c12a41"
      },
      "source": [
        "# Importando as Bibliotecas\n",
        "\n",
        "!pip install PyPDF2\n",
        "\n",
        "import PyPDF2 as PDF\n",
        "import pandas as pd\n",
        "import numpy as np\n",
        "import matplotlib.pyplot as plt\n",
        "import regex as re"
      ],
      "execution_count": 2,
      "outputs": [
        {
          "output_type": "stream",
          "text": [
            "Requirement already satisfied: PyPDF2 in /usr/local/lib/python3.7/dist-packages (1.26.0)\n"
          ],
          "name": "stdout"
        }
      ]
    },
    {
      "cell_type": "markdown",
      "metadata": {
        "id": "8gDNHe7IrTOY"
      },
      "source": [
        "**<> Lendo o arquivo PDF, e salvando todas as páginas**"
      ]
    },
    {
      "cell_type": "code",
      "metadata": {
        "id": "wZXFk50laeqt"
      },
      "source": [
        "arquivo = '/content/drive/MyDrive/Colab Notebooks/DataSet Kaggle/SISU UFMG.pdf'\n",
        "\n",
        "lerPDF = PDF.PdfFileReader(arquivo)\n",
        "\n",
        "num_page = lerPDF.numPages\n",
        "\n",
        "paginas = []\n",
        "\n",
        "# Filtrando os dados dos arquivos, separando somente os cursos / turnos / modalidade / máximo / mínimo\n",
        "for cont in range(0, num_page):\n",
        "  page = lerPDF.getPage(cont)\n",
        "\n",
        "  conteudo = page.extractText()\n",
        "\n",
        "  # SEPARAR SOMENTE OS CURSOS E SUAS NOTAS\n",
        "  inicio = conteudo.find(\"MínimoMáximo\") + len(\"MínimoMáximo\")\n",
        "\n",
        "  # Se for a última página:\n",
        "  if cont == 15:\n",
        "    fim = conteudo.find(\"334\")\n",
        "  else: \n",
        "    fim = conteudo.find(\"21/04/2021\")\n",
        "  \n",
        "  paginas.append(conteudo[inicio:fim])"
      ],
      "execution_count": 3,
      "outputs": []
    },
    {
      "cell_type": "code",
      "metadata": {
        "colab": {
          "base_uri": "https://localhost:8080/",
          "height": 137
        },
        "id": "J0-fj8h7fC6N",
        "outputId": "3e0e6929-2cc6-4bd5-ee02-fbbacf5daa05"
      },
      "source": [
        "paginas[5]"
      ],
      "execution_count": 17,
      "outputs": [
        {
          "output_type": "execute_result",
          "data": {
            "application/vnd.google.colaboratory.intrinsic+json": {
              "type": "string"
            },
            "text/plain": [
              "'EDUCAÇÃO FÍSICA (Bacharelado)NoturnoAmplaconcorrência682,38768,30EDUCAÇÃO FÍSICA (Licenciatura)Matutino1.1460,60460,60EDUCAÇÃO FÍSICA (Licenciatura)Matutino1.2602,58628,22EDUCAÇÃO FÍSICA (Licenciatura)Matutino2.1436,00436,00EDUCAÇÃO FÍSICA (Licenciatura)Matutino2.2640,08662,94EDUCAÇÃO FÍSICA (Licenciatura)Matutino3.1499,32499,32EDUCAÇÃO FÍSICA (Licenciatura)Matutino3.2633,60671,58EDUCAÇÃO FÍSICA (Licenciatura)Matutino4.1589,92589,92EDUCAÇÃO FÍSICA (Licenciatura)Matutino4.2649,88677,42EDUCAÇÃO FÍSICA (Licenciatura)MatutinoAmplaconcorrência661,08689,90ENFERMAGEMMatutino1.1608,68608,68ENFERMAGEMMatutino1.2686,64718,28ENFERMAGEMMatutino2.1616,88616,88ENFERMAGEMMatutino2.2707,40722,92ENFERMAGEMMatutino3.1595,68595,68ENFERMAGEMMatutino3.2684,62735,64ENFERMAGEMMatutino4.1657,20657,20ENFERMAGEMMatutino4.2723,04740,42ENFERMAGEMMatutinoAmplaconcorrência727,52761,14ENGENHARIA AEROESPACIALMatutino1.1596,10596,10ENGENHARIA AEROESPACIALMatutino1.2699,08756,56ENGENHARIA AEROESPACIALMatutino2.1548,78548,78ENGENHARIA AEROESPACIALMatutino2.2760,10794,84ENGENHARIA AEROESPACIALMatutino3.1552,12552,12ENGENHARIA AEROESPACIALMatutino3.2717,46740,66ENGENHARIA AEROESPACIALMatutino4.2768,92789,00ENGENHARIA AEROESPACIALMatutinoAmplaconcorrência780,04816,26ENGENHARIA AGRÍCOLA E AMBIENTALMatutino1.1547,44547,44ENGENHARIA AGRÍCOLA E AMBIENTALMatutino1.2604,48637,74ENGENHARIA AGRÍCOLA E AMBIENTALMatutino2.2622,14630,54ENGENHARIA AGRÍCOLA E AMBIENTALMatutino3.1479,66479,66ENGENHARIA AGRÍCOLA E AMBIENTALMatutino3.2588,04716,56ENGENHARIA AGRÍCOLA E AMBIENTALMatutino4.2635,60671,42ENGENHARIA AGRÍCOLA E AMBIENTALMatutinoAmplaconcorrência639,94703,14ENGENHARIA AMBIENTALMatutino1.2649,72668,98ENGENHARIA AMBIENTALMatutino2.1472,98472,98ENGENHARIA AMBIENTALMatutino2.2695,40710,40ENGENHARIA AMBIENTALMatutino3.1476,24476,24ENGENHARIA AMBIENTALMatutino3.2662,34696,56ENGENHARIA AMBIENTALMatutino4.2708,56733,04ENGENHARIA AMBIENTALMatutinoAmplaconcorrência709,90814,30ENGENHARIA CIVILMatutino1.1506,52577,82ENGENHARIA CIVILMatutino1.2650,96676,52ENGENHARIA CIVILMatutino2.1517,92571,54ENGENHARIA CIVILMatutino2.2680,82714,52'"
            ]
          },
          "metadata": {
            "tags": []
          },
          "execution_count": 17
        }
      ]
    },
    {
      "cell_type": "code",
      "metadata": {
        "id": "ixW8VF7e-S2P"
      },
      "source": [
        "# SEPARANDO OS VALORES DE CADA COLUNA DO DATAFRAME\n",
        "\n",
        "def sep_curso(string):\n",
        "  \n",
        "  # \"6CIÊNCIAS CONTÁBEISNoturno\"\n",
        "  # Curso com maior nome tem 49 letras\n",
        "  \n",
        "  curso = r'[A-ZÍÃÓÇÔÊÉÁÂÚ\\s()(Bacharelado)(Licenciatura)]{0,49}[VNMI]'\n",
        "  find_curso = re.findall(curso, string)\n",
        "  find_curso = list([x[:-1] for x in find_curso])\n",
        "  return find_curso\n",
        "\n",
        "\n",
        "def sep_turno(string):\n",
        "\n",
        "  turno = r'Matutino|Noturno|Integral|Vespertino'\n",
        "\n",
        "  find_turno = re.findall(turno, string)\n",
        "\n",
        "  return find_turno\n",
        "\n",
        "def sep_modalidade(string):\n",
        "  #1.1 | Amplaconcorrência\n",
        "\n",
        "  modalidade = r'\\d{1}\\.\\d{1}|Amplaconcorrência'\n",
        "\n",
        "  find_modalidade = re.findall(modalidade, string)\n",
        "\n",
        "  return find_modalidade\n",
        "\n",
        "def sep_minimo(string):\n",
        "  #520,04\n",
        "\n",
        "  minimo = r'\\d{3},\\d{3}'\n",
        "\n",
        "  find_min = re.findall(minimo, string)\n",
        "  find_min = list([x[:6] for x in find_min])\n",
        "\n",
        "  return find_min\n",
        "\n",
        "def sep_maximo(string):\n",
        "  #04520\n",
        "\n",
        "  maximo = r'\\d{5},\\d{2}'\n",
        "\n",
        "  find_max = re.findall(maximo, string)\n",
        "  find_max = list([x[2:] for x in find_max])\n",
        "\n",
        "  return find_max\n"
      ],
      "execution_count": 42,
      "outputs": []
    },
    {
      "cell_type": "code",
      "metadata": {
        "colab": {
          "base_uri": "https://localhost:8080/",
          "height": 204
        },
        "id": "vWDfg7urQ667",
        "outputId": "b2f8c4f2-a0db-4944-ed92-c72eb6ea0431"
      },
      "source": [
        "def data_frame(line):\n",
        "  '''\n",
        "  Função que retornará cada página do pdf em formato de DataFrame\n",
        "  '''\n",
        "  \n",
        "  line = paginas[line]\n",
        "\n",
        "  df_sisu = pd.DataFrame({\n",
        "      \"Curso\": sep_curso(line),\n",
        "      \"Turno\": sep_turno(line),\n",
        "      \"Modalidade\": sep_modalidade(line),\n",
        "      \"Mínimo\": sep_minimo(line),\n",
        "      \"Máximo\": sep_maximo(line)\n",
        "  })\n",
        "\n",
        "  return df_sisu\n",
        "\n",
        "data_frame(4).head()"
      ],
      "execution_count": 67,
      "outputs": [
        {
          "output_type": "execute_result",
          "data": {
            "text/html": [
              "<div>\n",
              "<style scoped>\n",
              "    .dataframe tbody tr th:only-of-type {\n",
              "        vertical-align: middle;\n",
              "    }\n",
              "\n",
              "    .dataframe tbody tr th {\n",
              "        vertical-align: top;\n",
              "    }\n",
              "\n",
              "    .dataframe thead th {\n",
              "        text-align: right;\n",
              "    }\n",
              "</style>\n",
              "<table border=\"1\" class=\"dataframe\">\n",
              "  <thead>\n",
              "    <tr style=\"text-align: right;\">\n",
              "      <th></th>\n",
              "      <th>Curso</th>\n",
              "      <th>Turno</th>\n",
              "      <th>Modalidade</th>\n",
              "      <th>Mínimo</th>\n",
              "      <th>Máximo</th>\n",
              "    </tr>\n",
              "  </thead>\n",
              "  <tbody>\n",
              "    <tr>\n",
              "      <th>0</th>\n",
              "      <td>CONTROLADORIA E FINANÇAS</td>\n",
              "      <td>Matutino</td>\n",
              "      <td>3.1</td>\n",
              "      <td>557,82</td>\n",
              "      <td>557,82</td>\n",
              "    </tr>\n",
              "    <tr>\n",
              "      <th>1</th>\n",
              "      <td>CONTROLADORIA E FINANÇAS</td>\n",
              "      <td>Matutino</td>\n",
              "      <td>3.2</td>\n",
              "      <td>647,38</td>\n",
              "      <td>689,68</td>\n",
              "    </tr>\n",
              "    <tr>\n",
              "      <th>2</th>\n",
              "      <td>CONTROLADORIA E FINANÇAS</td>\n",
              "      <td>Matutino</td>\n",
              "      <td>4.2</td>\n",
              "      <td>717,08</td>\n",
              "      <td>761,82</td>\n",
              "    </tr>\n",
              "    <tr>\n",
              "      <th>3</th>\n",
              "      <td>CONTROLADORIA E FINANÇAS</td>\n",
              "      <td>Matutino</td>\n",
              "      <td>Amplaconcorrência</td>\n",
              "      <td>716,56</td>\n",
              "      <td>781,84</td>\n",
              "    </tr>\n",
              "    <tr>\n",
              "      <th>4</th>\n",
              "      <td>DESIGN</td>\n",
              "      <td>Noturno</td>\n",
              "      <td>1.1</td>\n",
              "      <td>578,92</td>\n",
              "      <td>578,92</td>\n",
              "    </tr>\n",
              "  </tbody>\n",
              "</table>\n",
              "</div>"
            ],
            "text/plain": [
              "                      Curso     Turno         Modalidade  Mínimo  Máximo\n",
              "0  CONTROLADORIA E FINANÇAS  Matutino                3.1  557,82  557,82\n",
              "1  CONTROLADORIA E FINANÇAS  Matutino                3.2  647,38  689,68\n",
              "2  CONTROLADORIA E FINANÇAS  Matutino                4.2  717,08  761,82\n",
              "3  CONTROLADORIA E FINANÇAS  Matutino  Amplaconcorrência  716,56  781,84\n",
              "4                    DESIGN   Noturno                1.1  578,92  578,92"
            ]
          },
          "metadata": {
            "tags": []
          },
          "execution_count": 67
        }
      ]
    },
    {
      "cell_type": "markdown",
      "metadata": {
        "id": "cbD-LICMCKO_"
      },
      "source": [
        "# - ANALISANDO OS ARQUIVOS"
      ]
    },
    {
      "cell_type": "code",
      "metadata": {
        "colab": {
          "base_uri": "https://localhost:8080/",
          "height": 204
        },
        "id": "tKIuXBZ7CRXc",
        "outputId": "3935193f-29b6-4fc2-9d4b-ba0da8d197fe"
      },
      "source": [
        "# Montando o dataframe completo\n",
        "\n",
        "df = data_frame(0)\n",
        "\n",
        "for cont in range(1, 16):\n",
        "  df = df.append(data_frame(cont), ignore_index= True)\n",
        "\n",
        "# Transformando os valores de MÁXIMO e MÍNIMO em float\n",
        "\n",
        "df[\"Máximo\"] = df[\"Máximo\"].apply(lambda x: float(x.replace(\",\", \".\")))\n",
        "df[\"Mínimo\"] = df[\"Mínimo\"].apply(lambda x: float(x.replace(\",\", \".\")))\n",
        "\n",
        "df.head()"
      ],
      "execution_count": 198,
      "outputs": [
        {
          "output_type": "execute_result",
          "data": {
            "text/html": [
              "<div>\n",
              "<style scoped>\n",
              "    .dataframe tbody tr th:only-of-type {\n",
              "        vertical-align: middle;\n",
              "    }\n",
              "\n",
              "    .dataframe tbody tr th {\n",
              "        vertical-align: top;\n",
              "    }\n",
              "\n",
              "    .dataframe thead th {\n",
              "        text-align: right;\n",
              "    }\n",
              "</style>\n",
              "<table border=\"1\" class=\"dataframe\">\n",
              "  <thead>\n",
              "    <tr style=\"text-align: right;\">\n",
              "      <th></th>\n",
              "      <th>Curso</th>\n",
              "      <th>Turno</th>\n",
              "      <th>Modalidade</th>\n",
              "      <th>Mínimo</th>\n",
              "      <th>Máximo</th>\n",
              "    </tr>\n",
              "  </thead>\n",
              "  <tbody>\n",
              "    <tr>\n",
              "      <th>0</th>\n",
              "      <td>ADMINISTRAÇÃO</td>\n",
              "      <td>Matutino</td>\n",
              "      <td>1.1</td>\n",
              "      <td>520.04</td>\n",
              "      <td>520.04</td>\n",
              "    </tr>\n",
              "    <tr>\n",
              "      <th>1</th>\n",
              "      <td>ADMINISTRAÇÃO</td>\n",
              "      <td>Matutino</td>\n",
              "      <td>1.2</td>\n",
              "      <td>642.08</td>\n",
              "      <td>674.66</td>\n",
              "    </tr>\n",
              "    <tr>\n",
              "      <th>2</th>\n",
              "      <td>ADMINISTRAÇÃO</td>\n",
              "      <td>Matutino</td>\n",
              "      <td>2.1</td>\n",
              "      <td>649.12</td>\n",
              "      <td>649.12</td>\n",
              "    </tr>\n",
              "    <tr>\n",
              "      <th>3</th>\n",
              "      <td>ADMINISTRAÇÃO</td>\n",
              "      <td>Matutino</td>\n",
              "      <td>2.2</td>\n",
              "      <td>698.38</td>\n",
              "      <td>719.48</td>\n",
              "    </tr>\n",
              "    <tr>\n",
              "      <th>4</th>\n",
              "      <td>ADMINISTRAÇÃO</td>\n",
              "      <td>Matutino</td>\n",
              "      <td>3.1</td>\n",
              "      <td>559.88</td>\n",
              "      <td>559.88</td>\n",
              "    </tr>\n",
              "  </tbody>\n",
              "</table>\n",
              "</div>"
            ],
            "text/plain": [
              "           Curso     Turno Modalidade  Mínimo  Máximo\n",
              "0  ADMINISTRAÇÃO  Matutino        1.1  520.04  520.04\n",
              "1  ADMINISTRAÇÃO  Matutino        1.2  642.08  674.66\n",
              "2  ADMINISTRAÇÃO  Matutino        2.1  649.12  649.12\n",
              "3  ADMINISTRAÇÃO  Matutino        2.2  698.38  719.48\n",
              "4  ADMINISTRAÇÃO  Matutino        3.1  559.88  559.88"
            ]
          },
          "metadata": {
            "tags": []
          },
          "execution_count": 198
        }
      ]
    },
    {
      "cell_type": "markdown",
      "metadata": {
        "id": "O4tfpJG1HE0e"
      },
      "source": [
        "## **1°: Número de cursos ofertados no SISU UFMG 2021**"
      ]
    },
    {
      "cell_type": "code",
      "metadata": {
        "colab": {
          "base_uri": "https://localhost:8080/"
        },
        "id": "mglNxoeQHJI1",
        "outputId": "7e5964f6-c7af-4045-acde-085955dd3819"
      },
      "source": [
        "num_cursos = df[\"Curso\"].nunique()\n",
        "\n",
        "print(f\"Há {num_cursos} cursos ofertados no Sisu UFMG - 1° Edição\")"
      ],
      "execution_count": 199,
      "outputs": [
        {
          "output_type": "stream",
          "text": [
            "Há 71 cursos ofertados no Sisu UFMG - 1° Edição\n"
          ],
          "name": "stdout"
        }
      ]
    },
    {
      "cell_type": "markdown",
      "metadata": {
        "id": "BHKw-wlWAECS"
      },
      "source": [
        "### **Função que será usada para os tópicos 2 e 3:**"
      ]
    },
    {
      "cell_type": "code",
      "metadata": {
        "colab": {
          "base_uri": "https://localhost:8080/",
          "height": 204
        },
        "id": "SOTvg3aJ5nDR",
        "outputId": "6831ac71-040a-4ed0-f34d-d60b51c6e865"
      },
      "source": [
        "modalidades = df[\"Modalidade\"].unique()\n",
        "\n",
        "# ['1.1', '1.2', '2.1', '2.2', '3.1', '3.2', '4.2', 'Amplaconcorrência', '4.1']\n",
        "\n",
        "def top_modalidade(tipo = \"Máximo\",ind = 0):\n",
        "  '''\n",
        "  Essa função tem como objetivo retornar dois valores:\n",
        "  O primeiro trata-se de um data_frame do mínimo ou máximo (var TIPO) para a determina modalidade solicitada (var IND).\n",
        "  O segundo valor retornado, será a modalidade, visto que ao chamar essa função, deve-se passar um número inteiro que irá iterar pela lista \"modalidades\",\n",
        "  fazendo com que retorne o nome propriamente dito de tal modalidade.\n",
        "  '''\n",
        "\n",
        "  asc = False\n",
        "  if tipo == \"Mínimo\":\n",
        "    asc = True\n",
        "\n",
        "  df_modal = df[df[\"Modalidade\"] == modalidades[ind]]\n",
        "\n",
        "  df_modal = df_modal.sort_values(tipo, ascending= asc, ignore_index= True).head()\n",
        "\n",
        "  # Adicionar a sigla do turno em cada curso\n",
        "  cursos = df_modal[\"Curso\"].values\n",
        "  turnos = list([x[:3] for x in df_modal[\"Turno\"].values])\n",
        "  new_cursos = []\n",
        "\n",
        "  for i, v in enumerate(cursos):\n",
        "    v = f\"{v} ({turnos[i]})\"\n",
        "    new_cursos.append(v)\n",
        "  \n",
        "  df_modal[\"Curso\"] = new_cursos\n",
        "\n",
        "  return df_modal[[\"Curso\", tipo]], modalidades[ind] # Retornará o DF com o curso e o máximo, além da modalidade\n",
        "\n",
        "v, i = top_modalidade(tipo = \"Máximo\", ind = 4)\n",
        "\n",
        "v"
      ],
      "execution_count": 377,
      "outputs": [
        {
          "output_type": "execute_result",
          "data": {
            "text/html": [
              "<div>\n",
              "<style scoped>\n",
              "    .dataframe tbody tr th:only-of-type {\n",
              "        vertical-align: middle;\n",
              "    }\n",
              "\n",
              "    .dataframe tbody tr th {\n",
              "        vertical-align: top;\n",
              "    }\n",
              "\n",
              "    .dataframe thead th {\n",
              "        text-align: right;\n",
              "    }\n",
              "</style>\n",
              "<table border=\"1\" class=\"dataframe\">\n",
              "  <thead>\n",
              "    <tr style=\"text-align: right;\">\n",
              "      <th></th>\n",
              "      <th>Curso</th>\n",
              "      <th>Máximo</th>\n",
              "    </tr>\n",
              "  </thead>\n",
              "  <tbody>\n",
              "    <tr>\n",
              "      <th>0</th>\n",
              "      <td>MEDICINA (Int)</td>\n",
              "      <td>733.10</td>\n",
              "    </tr>\n",
              "    <tr>\n",
              "      <th>1</th>\n",
              "      <td>HISTÓRIA (Mat)</td>\n",
              "      <td>666.26</td>\n",
              "    </tr>\n",
              "    <tr>\n",
              "      <th>2</th>\n",
              "      <td>FILOSOFIA (Mat)</td>\n",
              "      <td>628.56</td>\n",
              "    </tr>\n",
              "    <tr>\n",
              "      <th>3</th>\n",
              "      <td>ODONTOLOGIA (Mat)</td>\n",
              "      <td>624.46</td>\n",
              "    </tr>\n",
              "    <tr>\n",
              "      <th>4</th>\n",
              "      <td>DIREITO (Not)</td>\n",
              "      <td>623.00</td>\n",
              "    </tr>\n",
              "  </tbody>\n",
              "</table>\n",
              "</div>"
            ],
            "text/plain": [
              "               Curso  Máximo\n",
              "0     MEDICINA (Int)  733.10\n",
              "1     HISTÓRIA (Mat)  666.26\n",
              "2    FILOSOFIA (Mat)  628.56\n",
              "3  ODONTOLOGIA (Mat)  624.46\n",
              "4      DIREITO (Not)  623.00"
            ]
          },
          "metadata": {
            "tags": []
          },
          "execution_count": 377
        }
      ]
    },
    {
      "cell_type": "markdown",
      "metadata": {
        "id": "MSyC-S8WUOji"
      },
      "source": [
        "##  **2°: Cinco cursos com as maiores notas POR MODALIDADE (Cotas e A.C.)**"
      ]
    },
    {
      "cell_type": "markdown",
      "metadata": {
        "id": "v_W3FTekVaOL"
      },
      "source": [
        "### Ampla Concorrência:"
      ]
    },
    {
      "cell_type": "code",
      "metadata": {
        "colab": {
          "base_uri": "https://localhost:8080/",
          "height": 296
        },
        "id": "dsblSedewVig",
        "outputId": "2acf54e4-e1b5-45bb-86a2-3062aabe1cc8"
      },
      "source": [
        "df_11, mod = top_modalidade(ind= 0)\n",
        "\n",
        "plt.figure(figsize=(20, 4))\n",
        "plt.bar(df_11[\"Curso\"], df_11[\"Máximo\"], color = [\"r\", \"g\", \"b\", \"y\", \"orange\"])\n",
        "plt.title(f\"TOP 5 CURSOS COM AS MAIORES NOTAS - Modalidade {mod}\", fontdict={\"fontsize\": 30});"
      ],
      "execution_count": 359,
      "outputs": [
        {
          "output_type": "display_data",
          "data": {
            "image/png": "[encoded data removed]",
            "text/plain": [
              "<Figure size 1440x288 with 1 Axes>"
            ]
          },
          "metadata": {
            "tags": [],
            "needs_background": "light"
          }
        }
      ]
    },
    {
      "cell_type": "markdown",
      "metadata": {
        "id": "5MPgRKpm1q35"
      },
      "source": [
        "### Cotas:"
      ]
    },
    {
      "cell_type": "code",
      "metadata": {
        "id": "Cdsni6PA1u9Z"
      },
      "source": [
        "for cont in range(len(modalidades)):\n",
        "  if cont != 7:\n",
        "    df_11, mod = top_modalidade(cont)\n",
        "\n",
        "    plt.figure(figsize=(20, 4))\n",
        "    plt.bar(df_11[\"Curso\"], df_11[\"Máximo\"], color = [\"r\", \"g\", \"b\", \"y\", \"orange\"])\n",
        "    plt.title(f\"TOP 5 CURSOS COM AS MAIORES NOTAS - Modalidade {mod}\", fontdict={\"fontsize\": 30});"
      ],
      "execution_count": null,
      "outputs": []
    },
    {
      "cell_type": "markdown",
      "metadata": {
        "id": "bAMeFau02DRQ"
      },
      "source": [
        "##"
      ]
    },
    {
      "cell_type": "markdown",
      "metadata": {
        "id": "A5nCetWu2FwY"
      },
      "source": [
        "## **3°: Cinco cursos com as menores notas POR MODALIDADE (Cotas e A.C.)**"
      ]
    },
    {
      "cell_type": "markdown",
      "metadata": {
        "id": "Mpd__u2J4AMo"
      },
      "source": [
        "### Ampla Concorrência"
      ]
    },
    {
      "cell_type": "code",
      "metadata": {
        "colab": {
          "base_uri": "https://localhost:8080/",
          "height": 407
        },
        "id": "jmZILn262PIV",
        "outputId": "de6dd976-de91-42f3-81c5-7769136d42d3"
      },
      "source": [
        "df_11, mod = top_modalidade(\"Mínimo\", 7)\n",
        "\n",
        "plt.figure(figsize=(18, 6))\n",
        "plt.bar(df_11[\"Curso\"], df_11[\"Mínimo\"], color = [\"r\", \"g\", \"b\", \"y\", \"orange\"])\n",
        "plt.title(f\"TOP 5 CURSOS COM AS MENORES NOTAS - Modalidade {mod}\", fontdict={\"fontsize\": 30});"
      ],
      "execution_count": 360,
      "outputs": [
        {
          "output_type": "display_data",
          "data": {
            "image/png": "[encoded data removed]",
            "text/plain": [
              "<Figure size 1296x432 with 1 Axes>"
            ]
          },
          "metadata": {
            "tags": [],
            "needs_background": "light"
          }
        }
      ]
    },
    {
      "cell_type": "markdown",
      "metadata": {
        "id": "3nYzAozV46TC"
      },
      "source": [
        "### Cotas"
      ]
    },
    {
      "cell_type": "code",
      "metadata": {
        "id": "udLubA3n4_eZ"
      },
      "source": [
        "for cont in range(len(modalidades)):\n",
        "  if cont != 7:\n",
        "    df_11, mod = top_modalidade(\"Mínimo\", cont)\n",
        "\n",
        "    plt.figure(figsize=(20, 4))\n",
        "    plt.bar(df_11[\"Curso\"], df_11[\"Mínimo\"], color = [\"r\", \"g\", \"b\", \"y\", \"orange\"])\n",
        "    plt.title(f\"TOP 5 CURSOS COM AS MENORES NOTAS - Modalidade {mod}\", fontdict={\"fontsize\": 30});"
      ],
      "execution_count": null,
      "outputs": []
    },
    {
      "cell_type": "markdown",
      "metadata": {
        "id": "MOft_eh96-Fb"
      },
      "source": [
        "## **4°: Número de cursos Matutinos / Noturnos / Integrais / Vespertinos**"
      ]
    },
    {
      "cell_type": "code",
      "metadata": {
        "colab": {
          "base_uri": "https://localhost:8080/",
          "height": 444
        },
        "id": "-ds0Nmag7Ih6",
        "outputId": "5dcc3127-dd91-4ec0-93d2-5ec7c712530e"
      },
      "source": [
        "turnos = df[\"Turno\"].value_counts()\n",
        "\n",
        "y = turnos.values\n",
        "\n",
        "x = turnos.index\n",
        "\n",
        "plt.figure(figsize= (11, 7))\n",
        "plt.bar(x, y)\n",
        "\n",
        "plt.title(\"N° DE TURNOS POR CURSO\");"
      ],
      "execution_count": 375,
      "outputs": [
        {
          "output_type": "display_data",
          "data": {
            "image/png": "[encoded data removed]",
            "text/plain": [
              "<Figure size 792x504 with 1 Axes>"
            ]
          },
          "metadata": {
            "tags": [],
            "needs_background": "light"
          }
        }
      ]
    }
  ]
}